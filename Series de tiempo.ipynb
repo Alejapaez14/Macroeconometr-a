{
 "cells": [
  {
   "cell_type": "markdown",
   "metadata": {},
   "source": [
    "# Método de Cramer\n",
    "- **Media muestral:**\n",
    "$$\n",
    "\\bar{Z} = \\dfrac{\\sum_{t = 1}^{T}{Z_t}}{T}\n",
    "$$\n",
    "- **Varianza muestral:**\n",
    "$$\n",
    "\\sigma^{2} = \\dfrac{\\sum_{t = 1}^{T}{(Z_t - \\bar{Z}) ^ 2}}{T - 1}\n",
    "$$\n",
    "- **Auto - covarianza:**\n",
    "$$\n",
    "\\gamma_{k} = \\dfrac{\\sum_{t = 1}^{T}{(Z_t - \\bar{Z})(Z_{t + k} - \\bar{Z})}}{T - 1}\n",
    "$$\n",
    "- **Auto - correlación:**\n",
    "$$\n",
    "\\rho_{k} = \\dfrac{\\sum_{t = 1}^{T}{(Z_t - \\bar{Z})(Z_{t + k} - \\bar{Z})}}{\\sum_{t = 1}^{T}{(Z_{t} - \\bar{Z}) ^ 2}}\n",
    "$$\n",
    "- **Matriz de Phi_kk:**\n",
    "$$\n",
    "\\phi_{kk} = \\dfrac{\n",
    "det\\begin{vmatrix}\n",
    "1 & \\rho_{1} & \\rho_{2} & \\cdots & \\rho_{k - 2} & \\rho_{1}\\\\\n",
    "\\rho_{1} & 1 & \\rho_{1} & \\cdots & \\rho_{k - 3} & \\rho_{2}\\\\\n",
    "\\vdots & \\vdots & \\vdots & \\ddots & \\vdots & \\vdots \\\\\n",
    "\\rho_{k - 1} & \\rho_{k - 2} & \\rho_{k - 3} & \\cdots & \\rho_{1} & \\rho_{k}\n",
    "\\end{vmatrix}\n",
    "}{\n",
    "det\\begin{vmatrix}\n",
    "1 & \\rho_{1} & \\rho_{2} & \\cdots & \\rho_{k - 2} & \\rho_{k - 1}\\\\\n",
    "\\rho_{1} & 1 & \\rho_{1} & \\cdots & \\rho_{k - 3} & \\rho_{k - 2}\\\\\n",
    "\\vdots & \\vdots & \\vdots & \\ddots & \\vdots & \\vdots \\\\\n",
    "\\rho_{k-1} & \\rho_{k-2} & \\rho_{k-3} & \\cdots & \\rho_{1} & 1\n",
    "\\end{vmatrix}\n",
    "}\n",
    "$$\n",
    "- **ACF:** Evalua la autocovarianza siendo el promedio de las covarianzas de las variables aleatorias realizadas que se encuentran en una separación de _k_ periodos de tiempo.\n",
    "  \n",
    "  Supuesto del valor esperado de E[Z_t] = 0\n",
    "- **PACF:** Evalua la correlación entre Z_t y Z_t+k después de remover la dependencia lineal con los datos intermedios.\n",
    "  \n",
    "  Se debe de cumplir ceteris paribus."
   ]
  },
  {
   "cell_type": "markdown",
   "metadata": {},
   "source": [
    "## Procedimiento en muestra"
   ]
  },
  {
   "cell_type": "code",
   "execution_count": 10,
   "metadata": {
    "vscode": {
     "languageId": "r"
    }
   },
   "outputs": [],
   "source": [
    "# Llamado de librerias\n",
    "library(dplyr)\n",
    "library(ggplot2)\n",
    "library(lmtest)\n",
    "library(gtools)\n",
    "library(shiny)"
   ]
  },
  {
   "cell_type": "code",
   "execution_count": 11,
   "metadata": {
    "vscode": {
     "languageId": "r"
    }
   },
   "outputs": [
    {
     "data": {
      "text/html": [
       "<table class=\"dataframe\">\n",
       "<caption>A data.frame: 6 × 2</caption>\n",
       "<thead>\n",
       "\t<tr><th></th><th scope=col>Fecha</th><th scope=col>Inflacion</th></tr>\n",
       "\t<tr><th></th><th scope=col>&lt;chr&gt;</th><th scope=col>&lt;dbl&gt;</th></tr>\n",
       "</thead>\n",
       "<tbody>\n",
       "\t<tr><th scope=row>1</th><td>2001/01/31</td><td>8.4922</td></tr>\n",
       "\t<tr><th scope=row>2</th><td>2001/02/28</td><td>8.0583</td></tr>\n",
       "\t<tr><th scope=row>3</th><td>2001/03/31</td><td>7.8143</td></tr>\n",
       "\t<tr><th scope=row>4</th><td>2001/04/30</td><td>7.9759</td></tr>\n",
       "\t<tr><th scope=row>5</th><td>2001/05/31</td><td>7.8654</td></tr>\n",
       "\t<tr><th scope=row>6</th><td>2001/06/30</td><td>7.9298</td></tr>\n",
       "</tbody>\n",
       "</table>\n"
      ],
      "text/latex": [
       "A data.frame: 6 × 2\n",
       "\\begin{tabular}{r|ll}\n",
       "  & Fecha & Inflacion\\\\\n",
       "  & <chr> & <dbl>\\\\\n",
       "\\hline\n",
       "\t1 & 2001/01/31 & 8.4922\\\\\n",
       "\t2 & 2001/02/28 & 8.0583\\\\\n",
       "\t3 & 2001/03/31 & 7.8143\\\\\n",
       "\t4 & 2001/04/30 & 7.9759\\\\\n",
       "\t5 & 2001/05/31 & 7.8654\\\\\n",
       "\t6 & 2001/06/30 & 7.9298\\\\\n",
       "\\end{tabular}\n"
      ],
      "text/markdown": [
       "\n",
       "A data.frame: 6 × 2\n",
       "\n",
       "| <!--/--> | Fecha &lt;chr&gt; | Inflacion &lt;dbl&gt; |\n",
       "|---|---|---|\n",
       "| 1 | 2001/01/31 | 8.4922 |\n",
       "| 2 | 2001/02/28 | 8.0583 |\n",
       "| 3 | 2001/03/31 | 7.8143 |\n",
       "| 4 | 2001/04/30 | 7.9759 |\n",
       "| 5 | 2001/05/31 | 7.8654 |\n",
       "| 6 | 2001/06/30 | 7.9298 |\n",
       "\n"
      ],
      "text/plain": [
       "  Fecha      Inflacion\n",
       "1 2001/01/31 8.4922   \n",
       "2 2001/02/28 8.0583   \n",
       "3 2001/03/31 7.8143   \n",
       "4 2001/04/30 7.9759   \n",
       "5 2001/05/31 7.8654   \n",
       "6 2001/06/30 7.9298   "
      ]
     },
     "metadata": {},
     "output_type": "display_data"
    },
    {
     "data": {
      "text/html": [
       "'El número de observaciones son: 216'"
      ],
      "text/latex": [
       "'El número de observaciones son: 216'"
      ],
      "text/markdown": [
       "'El número de observaciones son: 216'"
      ],
      "text/plain": [
       "[1] \"El número de observaciones son: 216\""
      ]
     },
     "metadata": {},
     "output_type": "display_data"
    }
   ],
   "source": [
    "# Importando archivo .csv\n",
    "File = read.csv(file = ('../Ejercicio inflación/Inflación.csv'), skip = 0, header = TRUE)\n",
    "head(File)\n",
    "sprintf('El número de observaciones son: %s', length(File[, 1]))"
   ]
  },
  {
   "cell_type": "code",
   "execution_count": 12,
   "metadata": {
    "vscode": {
     "languageId": "r"
    }
   },
   "outputs": [],
   "source": [
    "# Inputs \n",
    "k = 36                                  # 'Truncado' para (T / 4), si no ingrese el valor numérico\n",
    "\n",
    "# Parámetros y transformaciones lineales\n",
    "X = File$Inflacion\n",
    "T = length(X)\n",
    "\n",
    "# Construcción de los vectores\n",
    "X = cbind(X)"
   ]
  },
  {
   "cell_type": "code",
   "execution_count": 191,
   "metadata": {
    "vscode": {
     "languageId": "r"
    }
   },
   "outputs": [
    {
     "ename": "ERROR",
     "evalue": "Error in `[<-`(`*tmp*`, 1:i, i, value = ACF[2:(i + 1)]): subscript out of bounds\n",
     "output_type": "error",
     "traceback": [
      "Error in `[<-`(`*tmp*`, 1:i, i, value = ACF[2:(i + 1)]): subscript out of bounds\nTraceback:\n"
     ]
    }
   ],
   "source": [
    "# Condición de k\n",
    "if (k == 'Truncado'){\n",
    "    k = length(File[, 1]) / 4\n",
    "} else {\n",
    "    k = k\n",
    "}\n",
    "\n",
    "# Cálculo de variables\n",
    "Zb = sum(X) / T                                         # Media muestral\n",
    "Gamma = matrix(data = NA)                               # Auto - covarianza\n",
    "for (i in 0 : k){\n",
    "    Gamma[i + 1] = sum((X[1 : (T - i)] - Zb) * (X[(i + 1) : T] - Zb)) / (T - 1)\n",
    "}\n",
    "ACF = matrix(data = NA, nrow = 36, ncol = 1)                                 # ACF\n",
    "for (i in 0 : k){\n",
    "    ACF[i + 1] = Gamma[i + 1] / Gamma[1]\n",
    "}\n",
    "PACF = matrix(data = NA)                                 # PACF\n",
    "Den = matrix(data = NA, nrow = k, ncol = k)\n",
    "Num = matrix(data = NA, nrow = k, ncol = k)\n",
    "for(i in 1 : k){\n",
    "    for(j in 1: (k - i + 1)){\n",
    "        Den[j, j + i - 1] = ACF[i]\n",
    "        Den[j + i - 1, j] = ACF[i]\n",
    "    }\n",
    "}\n",
    "for (i in 2 : k + 1){\n",
    "    Num = Den\n",
    "    Num[1 : i, i] = ACF[2 : (i + 1)] \n",
    "    PACF[i] = det(Num[1 : i, 1 : i]) / det(Den[1 : i, 1 : i])\n",
    "}\n"
   ]
  },
  {
   "cell_type": "code",
   "execution_count": 219,
   "metadata": {
    "vscode": {
     "languageId": "r"
    }
   },
   "outputs": [
    {
     "data": {
      "text/html": [
       "<style>\n",
       ".list-inline {list-style: none; margin:0; padding: 0}\n",
       ".list-inline>li {display: inline-block}\n",
       ".list-inline>li:not(:last-child)::after {content: \"\\00b7\"; padding: 0 .5ex}\n",
       "</style>\n",
       "<ol class=list-inline><li>1</li><li>1</li><li>1</li><li>1</li><li>1</li><li>1</li><li>1</li><li>1</li><li>1</li><li>1</li><li>1</li><li>1</li><li>1</li><li>1</li><li>1</li><li>1</li><li>1</li><li>1</li><li>1</li><li>1</li><li>1</li><li>1</li><li>1</li><li>1</li><li>1</li><li>1</li><li>1</li><li>1</li><li>1</li><li>1</li><li>1</li><li>1</li><li>1</li><li>1</li><li>1</li><li>-0.0521849177021354</li></ol>\n"
      ],
      "text/latex": [
       "\\begin{enumerate*}\n",
       "\\item 1\n",
       "\\item 1\n",
       "\\item 1\n",
       "\\item 1\n",
       "\\item 1\n",
       "\\item 1\n",
       "\\item 1\n",
       "\\item 1\n",
       "\\item 1\n",
       "\\item 1\n",
       "\\item 1\n",
       "\\item 1\n",
       "\\item 1\n",
       "\\item 1\n",
       "\\item 1\n",
       "\\item 1\n",
       "\\item 1\n",
       "\\item 1\n",
       "\\item 1\n",
       "\\item 1\n",
       "\\item 1\n",
       "\\item 1\n",
       "\\item 1\n",
       "\\item 1\n",
       "\\item 1\n",
       "\\item 1\n",
       "\\item 1\n",
       "\\item 1\n",
       "\\item 1\n",
       "\\item 1\n",
       "\\item 1\n",
       "\\item 1\n",
       "\\item 1\n",
       "\\item 1\n",
       "\\item 1\n",
       "\\item -0.0521849177021354\n",
       "\\end{enumerate*}\n"
      ],
      "text/markdown": [
       "1. 1\n",
       "2. 1\n",
       "3. 1\n",
       "4. 1\n",
       "5. 1\n",
       "6. 1\n",
       "7. 1\n",
       "8. 1\n",
       "9. 1\n",
       "10. 1\n",
       "11. 1\n",
       "12. 1\n",
       "13. 1\n",
       "14. 1\n",
       "15. 1\n",
       "16. 1\n",
       "17. 1\n",
       "18. 1\n",
       "19. 1\n",
       "20. 1\n",
       "21. 1\n",
       "22. 1\n",
       "23. 1\n",
       "24. 1\n",
       "25. 1\n",
       "26. 1\n",
       "27. 1\n",
       "28. 1\n",
       "29. 1\n",
       "30. 1\n",
       "31. 1\n",
       "32. 1\n",
       "33. 1\n",
       "34. 1\n",
       "35. 1\n",
       "36. -0.0521849177021354\n",
       "\n",
       "\n"
      ],
      "text/plain": [
       " [1]  1.00000000  1.00000000  1.00000000  1.00000000  1.00000000  1.00000000\n",
       " [7]  1.00000000  1.00000000  1.00000000  1.00000000  1.00000000  1.00000000\n",
       "[13]  1.00000000  1.00000000  1.00000000  1.00000000  1.00000000  1.00000000\n",
       "[19]  1.00000000  1.00000000  1.00000000  1.00000000  1.00000000  1.00000000\n",
       "[25]  1.00000000  1.00000000  1.00000000  1.00000000  1.00000000  1.00000000\n",
       "[31]  1.00000000  1.00000000  1.00000000  1.00000000  1.00000000 -0.05218492"
      ]
     },
     "metadata": {},
     "output_type": "display_data"
    }
   ],
   "source": [
    "for (i in 2 : k){\n",
    "    for (j in 2 : k){\n",
    "        Num = Den\n",
    "        Num[1 : j, j] = ACF[2 : (j + 1)] \n",
    "    }\n",
    "    PACF[i] = det(Num[1 : i, 1 : i]) / det(Den[1 : i, 1 : i])\n",
    "}\n",
    "PACF"
   ]
  },
  {
   "cell_type": "code",
   "execution_count": 217,
   "metadata": {
    "vscode": {
     "languageId": "r"
    }
   },
   "outputs": [
    {
     "data": {
      "text/html": [
       "-9.14303840104743e-06"
      ],
      "text/latex": [
       "-9.14303840104743e-06"
      ],
      "text/markdown": [
       "-9.14303840104743e-06"
      ],
      "text/plain": [
       "[1] -9.143038e-06"
      ]
     },
     "metadata": {},
     "output_type": "display_data"
    },
    {
     "data": {
      "text/html": [
       "0.000104735905224999"
      ],
      "text/latex": [
       "0.000104735905224999"
      ],
      "text/markdown": [
       "0.000104735905224999"
      ],
      "text/plain": [
       "[1] 0.0001047359"
      ]
     },
     "metadata": {},
     "output_type": "display_data"
    }
   ],
   "source": [
    "Num[1 : 4, 4] = ACF[2 : 5]\n",
    "\n",
    "det(Num[1 : 4, 1 : 4])\n",
    "\n",
    "det(Den[1 : 4, 1 : 4])\n"
   ]
  },
  {
   "cell_type": "code",
   "execution_count": 190,
   "metadata": {
    "vscode": {
     "languageId": "r"
    }
   },
   "outputs": [
    {
     "data": {
      "text/html": [
       "<table class=\"dataframe\">\n",
       "<caption>A matrix: 2 × 2 of type dbl</caption>\n",
       "<tbody>\n",
       "\t<tr><td>1.0000000</td><td>0.9749577</td></tr>\n",
       "\t<tr><td>0.9749577</td><td>0.9376602</td></tr>\n",
       "</tbody>\n",
       "</table>\n"
      ],
      "text/latex": [
       "A matrix: 2 × 2 of type dbl\n",
       "\\begin{tabular}{ll}\n",
       "\t 1.0000000 & 0.9749577\\\\\n",
       "\t 0.9749577 & 0.9376602\\\\\n",
       "\\end{tabular}\n"
      ],
      "text/markdown": [
       "\n",
       "A matrix: 2 × 2 of type dbl\n",
       "\n",
       "| 1.0000000 | 0.9749577 |\n",
       "| 0.9749577 | 0.9376602 |\n",
       "\n"
      ],
      "text/plain": [
       "     [,1]      [,2]     \n",
       "[1,] 1.0000000 0.9749577\n",
       "[2,] 0.9749577 0.9376602"
      ]
     },
     "metadata": {},
     "output_type": "display_data"
    }
   ],
   "source": [
    "Num[1 : 2, 2] = ACF[2 : 3]\n",
    "\n",
    "Num[1 : 2, 1 : 2]"
   ]
  },
  {
   "cell_type": "code",
   "execution_count": 186,
   "metadata": {
    "vscode": {
     "languageId": "r"
    }
   },
   "outputs": [
    {
     "data": {
      "text/html": [
       "<table class=\"dataframe\">\n",
       "<caption>A matrix: 36 × 2 of type dbl</caption>\n",
       "<tbody>\n",
       "\t<tr><td> 1.0000000000</td><td> 0.9749576796</td></tr>\n",
       "\t<tr><td> 0.9749576796</td><td> 1.0000000000</td></tr>\n",
       "\t<tr><td> 0.9376602373</td><td> 0.9749576796</td></tr>\n",
       "\t<tr><td> 0.8955717928</td><td> 0.9376602373</td></tr>\n",
       "\t<tr><td> 0.8489620778</td><td> 0.8955717928</td></tr>\n",
       "\t<tr><td> 0.7976820333</td><td> 0.8489620778</td></tr>\n",
       "\t<tr><td> 0.7426667473</td><td> 0.7976820333</td></tr>\n",
       "\t<tr><td> 0.6840962797</td><td> 0.7426667473</td></tr>\n",
       "\t<tr><td> 0.6253248144</td><td> 0.6840962797</td></tr>\n",
       "\t<tr><td> 0.5677722664</td><td> 0.6253248144</td></tr>\n",
       "\t<tr><td> 0.5093004337</td><td> 0.5677722664</td></tr>\n",
       "\t<tr><td> 0.4513002858</td><td> 0.5093004337</td></tr>\n",
       "\t<tr><td> 0.3966589853</td><td> 0.4513002858</td></tr>\n",
       "\t<tr><td> 0.3541433259</td><td> 0.3966589853</td></tr>\n",
       "\t<tr><td> 0.3196394001</td><td> 0.3541433259</td></tr>\n",
       "\t<tr><td> 0.2905408857</td><td> 0.3196394001</td></tr>\n",
       "\t<tr><td> 0.2617744670</td><td> 0.2905408857</td></tr>\n",
       "\t<tr><td> 0.2322479848</td><td> 0.2617744670</td></tr>\n",
       "\t<tr><td> 0.2007331066</td><td> 0.2322479848</td></tr>\n",
       "\t<tr><td> 0.1728278536</td><td> 0.2007331066</td></tr>\n",
       "\t<tr><td> 0.1473511783</td><td> 0.1728278536</td></tr>\n",
       "\t<tr><td> 0.1228946617</td><td> 0.1473511783</td></tr>\n",
       "\t<tr><td> 0.0974600211</td><td> 0.1228946617</td></tr>\n",
       "\t<tr><td> 0.0716278089</td><td> 0.0974600211</td></tr>\n",
       "\t<tr><td> 0.0502837056</td><td> 0.0716278089</td></tr>\n",
       "\t<tr><td> 0.0311998079</td><td> 0.0502837056</td></tr>\n",
       "\t<tr><td> 0.0167032314</td><td> 0.0311998079</td></tr>\n",
       "\t<tr><td> 0.0037163217</td><td> 0.0167032314</td></tr>\n",
       "\t<tr><td>-0.0042591315</td><td> 0.0037163217</td></tr>\n",
       "\t<tr><td>-0.0051707893</td><td>-0.0042591315</td></tr>\n",
       "\t<tr><td> 0.0004109201</td><td>-0.0051707893</td></tr>\n",
       "\t<tr><td> 0.0064027757</td><td> 0.0004109201</td></tr>\n",
       "\t<tr><td> 0.0107946493</td><td> 0.0064027757</td></tr>\n",
       "\t<tr><td> 0.0165258759</td><td> 0.0107946493</td></tr>\n",
       "\t<tr><td> 0.0268453880</td><td> 0.0165258759</td></tr>\n",
       "\t<tr><td> 0.0406516520</td><td> 0.0268453880</td></tr>\n",
       "</tbody>\n",
       "</table>\n"
      ],
      "text/latex": [
       "A matrix: 36 × 2 of type dbl\n",
       "\\begin{tabular}{ll}\n",
       "\t  1.0000000000 &  0.9749576796\\\\\n",
       "\t  0.9749576796 &  1.0000000000\\\\\n",
       "\t  0.9376602373 &  0.9749576796\\\\\n",
       "\t  0.8955717928 &  0.9376602373\\\\\n",
       "\t  0.8489620778 &  0.8955717928\\\\\n",
       "\t  0.7976820333 &  0.8489620778\\\\\n",
       "\t  0.7426667473 &  0.7976820333\\\\\n",
       "\t  0.6840962797 &  0.7426667473\\\\\n",
       "\t  0.6253248144 &  0.6840962797\\\\\n",
       "\t  0.5677722664 &  0.6253248144\\\\\n",
       "\t  0.5093004337 &  0.5677722664\\\\\n",
       "\t  0.4513002858 &  0.5093004337\\\\\n",
       "\t  0.3966589853 &  0.4513002858\\\\\n",
       "\t  0.3541433259 &  0.3966589853\\\\\n",
       "\t  0.3196394001 &  0.3541433259\\\\\n",
       "\t  0.2905408857 &  0.3196394001\\\\\n",
       "\t  0.2617744670 &  0.2905408857\\\\\n",
       "\t  0.2322479848 &  0.2617744670\\\\\n",
       "\t  0.2007331066 &  0.2322479848\\\\\n",
       "\t  0.1728278536 &  0.2007331066\\\\\n",
       "\t  0.1473511783 &  0.1728278536\\\\\n",
       "\t  0.1228946617 &  0.1473511783\\\\\n",
       "\t  0.0974600211 &  0.1228946617\\\\\n",
       "\t  0.0716278089 &  0.0974600211\\\\\n",
       "\t  0.0502837056 &  0.0716278089\\\\\n",
       "\t  0.0311998079 &  0.0502837056\\\\\n",
       "\t  0.0167032314 &  0.0311998079\\\\\n",
       "\t  0.0037163217 &  0.0167032314\\\\\n",
       "\t -0.0042591315 &  0.0037163217\\\\\n",
       "\t -0.0051707893 & -0.0042591315\\\\\n",
       "\t  0.0004109201 & -0.0051707893\\\\\n",
       "\t  0.0064027757 &  0.0004109201\\\\\n",
       "\t  0.0107946493 &  0.0064027757\\\\\n",
       "\t  0.0165258759 &  0.0107946493\\\\\n",
       "\t  0.0268453880 &  0.0165258759\\\\\n",
       "\t  0.0406516520 &  0.0268453880\\\\\n",
       "\\end{tabular}\n"
      ],
      "text/markdown": [
       "\n",
       "A matrix: 36 × 2 of type dbl\n",
       "\n",
       "|  1.0000000000 |  0.9749576796 |\n",
       "|  0.9749576796 |  1.0000000000 |\n",
       "|  0.9376602373 |  0.9749576796 |\n",
       "|  0.8955717928 |  0.9376602373 |\n",
       "|  0.8489620778 |  0.8955717928 |\n",
       "|  0.7976820333 |  0.8489620778 |\n",
       "|  0.7426667473 |  0.7976820333 |\n",
       "|  0.6840962797 |  0.7426667473 |\n",
       "|  0.6253248144 |  0.6840962797 |\n",
       "|  0.5677722664 |  0.6253248144 |\n",
       "|  0.5093004337 |  0.5677722664 |\n",
       "|  0.4513002858 |  0.5093004337 |\n",
       "|  0.3966589853 |  0.4513002858 |\n",
       "|  0.3541433259 |  0.3966589853 |\n",
       "|  0.3196394001 |  0.3541433259 |\n",
       "|  0.2905408857 |  0.3196394001 |\n",
       "|  0.2617744670 |  0.2905408857 |\n",
       "|  0.2322479848 |  0.2617744670 |\n",
       "|  0.2007331066 |  0.2322479848 |\n",
       "|  0.1728278536 |  0.2007331066 |\n",
       "|  0.1473511783 |  0.1728278536 |\n",
       "|  0.1228946617 |  0.1473511783 |\n",
       "|  0.0974600211 |  0.1228946617 |\n",
       "|  0.0716278089 |  0.0974600211 |\n",
       "|  0.0502837056 |  0.0716278089 |\n",
       "|  0.0311998079 |  0.0502837056 |\n",
       "|  0.0167032314 |  0.0311998079 |\n",
       "|  0.0037163217 |  0.0167032314 |\n",
       "| -0.0042591315 |  0.0037163217 |\n",
       "| -0.0051707893 | -0.0042591315 |\n",
       "|  0.0004109201 | -0.0051707893 |\n",
       "|  0.0064027757 |  0.0004109201 |\n",
       "|  0.0107946493 |  0.0064027757 |\n",
       "|  0.0165258759 |  0.0107946493 |\n",
       "|  0.0268453880 |  0.0165258759 |\n",
       "|  0.0406516520 |  0.0268453880 |\n",
       "\n"
      ],
      "text/plain": [
       "      [,1]          [,2]         \n",
       " [1,]  1.0000000000  0.9749576796\n",
       " [2,]  0.9749576796  1.0000000000\n",
       " [3,]  0.9376602373  0.9749576796\n",
       " [4,]  0.8955717928  0.9376602373\n",
       " [5,]  0.8489620778  0.8955717928\n",
       " [6,]  0.7976820333  0.8489620778\n",
       " [7,]  0.7426667473  0.7976820333\n",
       " [8,]  0.6840962797  0.7426667473\n",
       " [9,]  0.6253248144  0.6840962797\n",
       "[10,]  0.5677722664  0.6253248144\n",
       "[11,]  0.5093004337  0.5677722664\n",
       "[12,]  0.4513002858  0.5093004337\n",
       "[13,]  0.3966589853  0.4513002858\n",
       "[14,]  0.3541433259  0.3966589853\n",
       "[15,]  0.3196394001  0.3541433259\n",
       "[16,]  0.2905408857  0.3196394001\n",
       "[17,]  0.2617744670  0.2905408857\n",
       "[18,]  0.2322479848  0.2617744670\n",
       "[19,]  0.2007331066  0.2322479848\n",
       "[20,]  0.1728278536  0.2007331066\n",
       "[21,]  0.1473511783  0.1728278536\n",
       "[22,]  0.1228946617  0.1473511783\n",
       "[23,]  0.0974600211  0.1228946617\n",
       "[24,]  0.0716278089  0.0974600211\n",
       "[25,]  0.0502837056  0.0716278089\n",
       "[26,]  0.0311998079  0.0502837056\n",
       "[27,]  0.0167032314  0.0311998079\n",
       "[28,]  0.0037163217  0.0167032314\n",
       "[29,] -0.0042591315  0.0037163217\n",
       "[30,] -0.0051707893 -0.0042591315\n",
       "[31,]  0.0004109201 -0.0051707893\n",
       "[32,]  0.0064027757  0.0004109201\n",
       "[33,]  0.0107946493  0.0064027757\n",
       "[34,]  0.0165258759  0.0107946493\n",
       "[35,]  0.0268453880  0.0165258759\n",
       "[36,]  0.0406516520  0.0268453880"
      ]
     },
     "metadata": {},
     "output_type": "display_data"
    },
    {
     "data": {
      "text/html": [
       "<table class=\"dataframe\">\n",
       "<caption>A matrix: 2 × 2 of type dbl</caption>\n",
       "<tbody>\n",
       "\t<tr><td>1.0000000</td><td>0.9749577</td></tr>\n",
       "\t<tr><td>0.9749577</td><td>1.0000000</td></tr>\n",
       "</tbody>\n",
       "</table>\n"
      ],
      "text/latex": [
       "A matrix: 2 × 2 of type dbl\n",
       "\\begin{tabular}{ll}\n",
       "\t 1.0000000 & 0.9749577\\\\\n",
       "\t 0.9749577 & 1.0000000\\\\\n",
       "\\end{tabular}\n"
      ],
      "text/markdown": [
       "\n",
       "A matrix: 2 × 2 of type dbl\n",
       "\n",
       "| 1.0000000 | 0.9749577 |\n",
       "| 0.9749577 | 1.0000000 |\n",
       "\n"
      ],
      "text/plain": [
       "     [,1]      [,2]     \n",
       "[1,] 1.0000000 0.9749577\n",
       "[2,] 0.9749577 1.0000000"
      ]
     },
     "metadata": {},
     "output_type": "display_data"
    }
   ],
   "source": [
    "Num[, 1 : 2]\n",
    "Den[1 : 2, 1 : 2]"
   ]
  },
  {
   "cell_type": "code",
   "execution_count": 6,
   "metadata": {
    "vscode": {
     "languageId": "r"
    }
   },
   "outputs": [
    {
     "data": {
      "image/png": "[encoded data removed]",
      "text/plain": [
       "plot without title"
      ]
     },
     "metadata": {
      "image/png": {
       "height": 420,
       "width": 420
      }
     },
     "output_type": "display_data"
    }
   ],
   "source": [
    "# Gráfica conjunta de\n",
    "# Auto - covarianzas (Gamma)\n",
    "plot(Gamma, type = 'h')"
   ]
  }
 ],
 "metadata": {
  "kernelspec": {
   "display_name": "R",
   "language": "R",
   "name": "ir"
  },
  "language_info": {
   "codemirror_mode": "r",
   "file_extension": ".r",
   "mimetype": "text/x-r-source",
   "name": "R",
   "pygments_lexer": "r",
   "version": "4.2.1"
  },
  "orig_nbformat": 4,
  "vscode": {
   "interpreter": {
    "hash": "42322db88e3c2f02255451d64a951c0a78537fc6172e7daad3a10b518b5be8f3"
   }
  }
 },
 "nbformat": 4,
 "nbformat_minor": 2
}
