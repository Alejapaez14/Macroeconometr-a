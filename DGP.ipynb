{
 "cells": [
  {
   "cell_type": "code",
   "execution_count": 3,
   "metadata": {
    "vscode": {
     "languageId": "r"
    }
   },
   "outputs": [],
   "source": [
    "# Llamado de librerias\n",
    "library(dplyr)\n",
    "library(ggplot2)\n",
    "library(patchwork)\n",
    "library(forecast)\n",
    "library(tseries)\n",
    "library(scales)\n",
    "library(gridExtra)\n",
    "library(reshape)"
   ]
  },
  {
   "cell_type": "markdown",
   "metadata": {},
   "source": [
    "# Tarea 1 - Simular DGP's"
   ]
  },
  {
   "cell_type": "markdown",
   "metadata": {},
   "source": [
    "- Estos DGP están sujetos a los cambios de la actividad con David en donde calculabamos los interceptos, si se le remueve esto, queda tal cual lo visto con Martha."
   ]
  },
  {
   "cell_type": "markdown",
   "metadata": {},
   "source": [
    "## DGP[1]"
   ]
  },
  {
   "cell_type": "code",
   "execution_count": 4,
   "metadata": {
    "vscode": {
     "languageId": "r"
    }
   },
   "outputs": [
    {
     "name": "stdout",
     "output_type": "stream",
     "text": [
      "        Mu       Phi\n",
      "1 40.00193 0.3602511\n",
      "2 40.10822 0.3584487\n",
      "3 39.94319 0.3608174\n",
      "4 39.95148 0.3613691\n",
      "5 40.17469 0.3573485\n",
      "6 39.97716 0.3605769\n"
     ]
    },
    {
     "data": {
      "text/html": [
       "<table class=\"dataframe\">\n",
       "<caption>A data.frame: 6 × 400</caption>\n",
       "<thead>\n",
       "\t<tr><th></th><th scope=col>X1</th><th scope=col>X2</th><th scope=col>X3</th><th scope=col>X4</th><th scope=col>X5</th><th scope=col>X6</th><th scope=col>X7</th><th scope=col>X8</th><th scope=col>X9</th><th scope=col>X10</th><th scope=col>⋯</th><th scope=col>X391</th><th scope=col>X392</th><th scope=col>X393</th><th scope=col>X394</th><th scope=col>X395</th><th scope=col>X396</th><th scope=col>X397</th><th scope=col>X398</th><th scope=col>X399</th><th scope=col>X400</th></tr>\n",
       "\t<tr><th></th><th scope=col>&lt;dbl&gt;</th><th scope=col>&lt;dbl&gt;</th><th scope=col>&lt;dbl&gt;</th><th scope=col>&lt;dbl&gt;</th><th scope=col>&lt;dbl&gt;</th><th scope=col>&lt;dbl&gt;</th><th scope=col>&lt;dbl&gt;</th><th scope=col>&lt;dbl&gt;</th><th scope=col>&lt;dbl&gt;</th><th scope=col>&lt;dbl&gt;</th><th scope=col>⋯</th><th scope=col>&lt;dbl&gt;</th><th scope=col>&lt;dbl&gt;</th><th scope=col>&lt;dbl&gt;</th><th scope=col>&lt;dbl&gt;</th><th scope=col>&lt;dbl&gt;</th><th scope=col>&lt;dbl&gt;</th><th scope=col>&lt;dbl&gt;</th><th scope=col>&lt;dbl&gt;</th><th scope=col>&lt;dbl&gt;</th><th scope=col>&lt;dbl&gt;</th></tr>\n",
       "</thead>\n",
       "<tbody>\n",
       "\t<tr><th scope=row>1</th><td>20.00000</td><td>20.00000</td><td>20.00000</td><td>20.00000</td><td>20.00000</td><td>20.00000</td><td>20.00000</td><td>20.00000</td><td>20.00000</td><td>20.00000</td><td>⋯</td><td>20.00000</td><td>20.00000</td><td>20.00000</td><td>20.00000</td><td>20.00000</td><td>20.00000</td><td>20.00000</td><td>20.00000</td><td>20.00000</td><td>20.00000</td></tr>\n",
       "\t<tr><th scope=row>2</th><td>47.22755</td><td>47.22773</td><td>47.15612</td><td>47.11863</td><td>47.40765</td><td>47.10550</td><td>47.02048</td><td>47.32606</td><td>47.07753</td><td>47.17236</td><td>⋯</td><td>47.03348</td><td>47.39858</td><td>47.20036</td><td>47.32052</td><td>47.13050</td><td>47.22293</td><td>47.16847</td><td>47.42781</td><td>47.21147</td><td>47.29229</td></tr>\n",
       "\t<tr><th scope=row>3</th><td>56.87657</td><td>57.24016</td><td>57.01502</td><td>57.09638</td><td>56.87843</td><td>57.08828</td><td>56.82323</td><td>56.96786</td><td>56.92668</td><td>56.77635</td><td>⋯</td><td>56.93690</td><td>57.24204</td><td>57.07489</td><td>57.09914</td><td>56.77541</td><td>56.86320</td><td>56.94760</td><td>56.92074</td><td>57.02951</td><td>57.24617</td></tr>\n",
       "\t<tr><th scope=row>4</th><td>60.71486</td><td>60.43690</td><td>60.35259</td><td>60.64409</td><td>60.48676</td><td>60.81086</td><td>60.39452</td><td>60.42580</td><td>60.45196</td><td>60.34961</td><td>⋯</td><td>60.32214</td><td>60.30725</td><td>60.42457</td><td>60.60911</td><td>60.52931</td><td>60.61585</td><td>60.46943</td><td>60.54638</td><td>60.67111</td><td>60.50622</td></tr>\n",
       "\t<tr><th scope=row>5</th><td>61.90678</td><td>61.74525</td><td>61.75630</td><td>62.07722</td><td>62.03195</td><td>61.89554</td><td>61.59643</td><td>61.86370</td><td>61.82815</td><td>61.77004</td><td>⋯</td><td>61.49810</td><td>61.79617</td><td>61.64652</td><td>61.99773</td><td>61.86299</td><td>61.75717</td><td>61.59497</td><td>61.75987</td><td>61.80490</td><td>61.69196</td></tr>\n",
       "\t<tr><th scope=row>6</th><td>62.16337</td><td>62.24815</td><td>62.23679</td><td>62.45119</td><td>62.24107</td><td>62.33760</td><td>62.03262</td><td>62.25475</td><td>62.08010</td><td>62.29568</td><td>⋯</td><td>61.74661</td><td>62.30293</td><td>62.23724</td><td>62.32190</td><td>62.48589</td><td>62.37913</td><td>62.23005</td><td>62.23484</td><td>62.20865</td><td>62.00621</td></tr>\n",
       "</tbody>\n",
       "</table>\n"
      ],
      "text/latex": [
       "A data.frame: 6 × 400\n",
       "\\begin{tabular}{r|lllllllllllllllllllll}\n",
       "  & X1 & X2 & X3 & X4 & X5 & X6 & X7 & X8 & X9 & X10 & ⋯ & X391 & X392 & X393 & X394 & X395 & X396 & X397 & X398 & X399 & X400\\\\\n",
       "  & <dbl> & <dbl> & <dbl> & <dbl> & <dbl> & <dbl> & <dbl> & <dbl> & <dbl> & <dbl> & ⋯ & <dbl> & <dbl> & <dbl> & <dbl> & <dbl> & <dbl> & <dbl> & <dbl> & <dbl> & <dbl>\\\\\n",
       "\\hline\n",
       "\t1 & 20.00000 & 20.00000 & 20.00000 & 20.00000 & 20.00000 & 20.00000 & 20.00000 & 20.00000 & 20.00000 & 20.00000 & ⋯ & 20.00000 & 20.00000 & 20.00000 & 20.00000 & 20.00000 & 20.00000 & 20.00000 & 20.00000 & 20.00000 & 20.00000\\\\\n",
       "\t2 & 47.22755 & 47.22773 & 47.15612 & 47.11863 & 47.40765 & 47.10550 & 47.02048 & 47.32606 & 47.07753 & 47.17236 & ⋯ & 47.03348 & 47.39858 & 47.20036 & 47.32052 & 47.13050 & 47.22293 & 47.16847 & 47.42781 & 47.21147 & 47.29229\\\\\n",
       "\t3 & 56.87657 & 57.24016 & 57.01502 & 57.09638 & 56.87843 & 57.08828 & 56.82323 & 56.96786 & 56.92668 & 56.77635 & ⋯ & 56.93690 & 57.24204 & 57.07489 & 57.09914 & 56.77541 & 56.86320 & 56.94760 & 56.92074 & 57.02951 & 57.24617\\\\\n",
       "\t4 & 60.71486 & 60.43690 & 60.35259 & 60.64409 & 60.48676 & 60.81086 & 60.39452 & 60.42580 & 60.45196 & 60.34961 & ⋯ & 60.32214 & 60.30725 & 60.42457 & 60.60911 & 60.52931 & 60.61585 & 60.46943 & 60.54638 & 60.67111 & 60.50622\\\\\n",
       "\t5 & 61.90678 & 61.74525 & 61.75630 & 62.07722 & 62.03195 & 61.89554 & 61.59643 & 61.86370 & 61.82815 & 61.77004 & ⋯ & 61.49810 & 61.79617 & 61.64652 & 61.99773 & 61.86299 & 61.75717 & 61.59497 & 61.75987 & 61.80490 & 61.69196\\\\\n",
       "\t6 & 62.16337 & 62.24815 & 62.23679 & 62.45119 & 62.24107 & 62.33760 & 62.03262 & 62.25475 & 62.08010 & 62.29568 & ⋯ & 61.74661 & 62.30293 & 62.23724 & 62.32190 & 62.48589 & 62.37913 & 62.23005 & 62.23484 & 62.20865 & 62.00621\\\\\n",
       "\\end{tabular}\n"
      ],
      "text/markdown": [
       "\n",
       "A data.frame: 6 × 400\n",
       "\n",
       "| <!--/--> | X1 &lt;dbl&gt; | X2 &lt;dbl&gt; | X3 &lt;dbl&gt; | X4 &lt;dbl&gt; | X5 &lt;dbl&gt; | X6 &lt;dbl&gt; | X7 &lt;dbl&gt; | X8 &lt;dbl&gt; | X9 &lt;dbl&gt; | X10 &lt;dbl&gt; | ⋯ ⋯ | X391 &lt;dbl&gt; | X392 &lt;dbl&gt; | X393 &lt;dbl&gt; | X394 &lt;dbl&gt; | X395 &lt;dbl&gt; | X396 &lt;dbl&gt; | X397 &lt;dbl&gt; | X398 &lt;dbl&gt; | X399 &lt;dbl&gt; | X400 &lt;dbl&gt; |\n",
       "|---|---|---|---|---|---|---|---|---|---|---|---|---|---|---|---|---|---|---|---|---|---|\n",
       "| 1 | 20.00000 | 20.00000 | 20.00000 | 20.00000 | 20.00000 | 20.00000 | 20.00000 | 20.00000 | 20.00000 | 20.00000 | ⋯ | 20.00000 | 20.00000 | 20.00000 | 20.00000 | 20.00000 | 20.00000 | 20.00000 | 20.00000 | 20.00000 | 20.00000 |\n",
       "| 2 | 47.22755 | 47.22773 | 47.15612 | 47.11863 | 47.40765 | 47.10550 | 47.02048 | 47.32606 | 47.07753 | 47.17236 | ⋯ | 47.03348 | 47.39858 | 47.20036 | 47.32052 | 47.13050 | 47.22293 | 47.16847 | 47.42781 | 47.21147 | 47.29229 |\n",
       "| 3 | 56.87657 | 57.24016 | 57.01502 | 57.09638 | 56.87843 | 57.08828 | 56.82323 | 56.96786 | 56.92668 | 56.77635 | ⋯ | 56.93690 | 57.24204 | 57.07489 | 57.09914 | 56.77541 | 56.86320 | 56.94760 | 56.92074 | 57.02951 | 57.24617 |\n",
       "| 4 | 60.71486 | 60.43690 | 60.35259 | 60.64409 | 60.48676 | 60.81086 | 60.39452 | 60.42580 | 60.45196 | 60.34961 | ⋯ | 60.32214 | 60.30725 | 60.42457 | 60.60911 | 60.52931 | 60.61585 | 60.46943 | 60.54638 | 60.67111 | 60.50622 |\n",
       "| 5 | 61.90678 | 61.74525 | 61.75630 | 62.07722 | 62.03195 | 61.89554 | 61.59643 | 61.86370 | 61.82815 | 61.77004 | ⋯ | 61.49810 | 61.79617 | 61.64652 | 61.99773 | 61.86299 | 61.75717 | 61.59497 | 61.75987 | 61.80490 | 61.69196 |\n",
       "| 6 | 62.16337 | 62.24815 | 62.23679 | 62.45119 | 62.24107 | 62.33760 | 62.03262 | 62.25475 | 62.08010 | 62.29568 | ⋯ | 61.74661 | 62.30293 | 62.23724 | 62.32190 | 62.48589 | 62.37913 | 62.23005 | 62.23484 | 62.20865 | 62.00621 |\n",
       "\n"
      ],
      "text/plain": [
       "  X1       X2       X3       X4       X5       X6       X7       X8      \n",
       "1 20.00000 20.00000 20.00000 20.00000 20.00000 20.00000 20.00000 20.00000\n",
       "2 47.22755 47.22773 47.15612 47.11863 47.40765 47.10550 47.02048 47.32606\n",
       "3 56.87657 57.24016 57.01502 57.09638 56.87843 57.08828 56.82323 56.96786\n",
       "4 60.71486 60.43690 60.35259 60.64409 60.48676 60.81086 60.39452 60.42580\n",
       "5 61.90678 61.74525 61.75630 62.07722 62.03195 61.89554 61.59643 61.86370\n",
       "6 62.16337 62.24815 62.23679 62.45119 62.24107 62.33760 62.03262 62.25475\n",
       "  X9       X10      ⋯ X391     X392     X393     X394     X395     X396    \n",
       "1 20.00000 20.00000 ⋯ 20.00000 20.00000 20.00000 20.00000 20.00000 20.00000\n",
       "2 47.07753 47.17236 ⋯ 47.03348 47.39858 47.20036 47.32052 47.13050 47.22293\n",
       "3 56.92668 56.77635 ⋯ 56.93690 57.24204 57.07489 57.09914 56.77541 56.86320\n",
       "4 60.45196 60.34961 ⋯ 60.32214 60.30725 60.42457 60.60911 60.52931 60.61585\n",
       "5 61.82815 61.77004 ⋯ 61.49810 61.79617 61.64652 61.99773 61.86299 61.75717\n",
       "6 62.08010 62.29568 ⋯ 61.74661 62.30293 62.23724 62.32190 62.48589 62.37913\n",
       "  X397     X398     X399     X400    \n",
       "1 20.00000 20.00000 20.00000 20.00000\n",
       "2 47.16847 47.42781 47.21147 47.29229\n",
       "3 56.94760 56.92074 57.02951 57.24617\n",
       "4 60.46943 60.54638 60.67111 60.50622\n",
       "5 61.59497 61.75987 61.80490 61.69196\n",
       "6 62.23005 62.23484 62.20865 62.00621"
      ]
     },
     "metadata": {},
     "output_type": "display_data"
    },
    {
     "data": {
      "image/png": "[encoded data removed]",
      "text/plain": [
       "plot without title"
      ]
     },
     "metadata": {
      "image/png": {
       "height": 420,
       "width": 420
      }
     },
     "output_type": "display_data"
    }
   ],
   "source": [
    "DGP.1 = function(Phi, Mu, Sigma_a, T, Zt_0, N_scenarios = 20, N_remove = 0){\n",
    "    DGP.1 = matrix(data = NA, nrow = T, ncol = N_scenarios)\n",
    "    DGP.1[1, ] = Zt_0\n",
    "    for (j in 1 : N_scenarios){\n",
    "        set.seed(j)\n",
    "        At = rnorm(n = T, mean = 0, sd = Sigma_a)\n",
    "        for (i in 2 : T){\n",
    "            DGP.1[i, j] = Mu + Phi * DGP.1[i - 1, j] + At[i]\n",
    "        }\n",
    "        # DGP.1[, j] = DGP.1[, j] - mean(DGP.1[, j])\n",
    "    }\n",
    "    if (N_remove == 0){\n",
    "        Zt.1 = DGP.1\n",
    "    } else {\n",
    "        Zt.1 = DGP.1[-(1 : N_remove), ]\n",
    "    }\n",
    "    Zt.1 = data.frame(Zt.1)\n",
    "\n",
    "    # Coeficientes\n",
    "    Coeff = matrix(data = NA, nrow = 2, ncol = N_scenarios)              # Nrow depende del DGP\n",
    "    for (i in 1 : N_scenarios){\n",
    "        Y = Zt.1[2 : T, i]\n",
    "        X = cbind(1, Zt.1[1 : (T - 1), i])\n",
    "        Coeff[, i] = solve(t(X) %*% X) %*% t(X) %*% Y\n",
    "    }\n",
    "    Coeff = data.frame(t(Coeff))\n",
    "    colnames(Coeff) = c('Mu', 'Phi')\n",
    "\n",
    "    # Gráficas\n",
    "    Coeff_Mu = ggplot(Coeff, aes(x = Mu)) + \n",
    "    labs(title = 'Histograma de Mu', x = 'Mu', y = 'Densidad') +\n",
    "    geom_histogram(aes(y = ..density..), colour = 'darkblue', fill = 'lightblue', alpha = 0.5, bins = N_scenarios / 4) +\n",
    "    geom_density(alpha = 0.2, fill = \"#FF6666\")\n",
    "\n",
    "    Coeff_Phi = ggplot(Coeff, aes(x = Phi)) + \n",
    "    labs(title = 'Histograma de Phi', x = 'Phi', y = 'Densidad') +\n",
    "    geom_histogram(aes(y = ..density..), colour = 'darkblue', fill = 'lightblue', alpha = 0.5, bins = N_scenarios / 4) +\n",
    "    geom_density(alpha = 0.2, fill = \"#FF6666\")\n",
    "\n",
    "    # Salidas\n",
    "    print(head(Coeff))\n",
    "    print(Coeff_Mu / Coeff_Phi)\n",
    "    return(head(Zt.1))\n",
    "}\n",
    "\n",
    "DGP.1(Phi = 0.36, Mu = 40, Sigma_a = 0.15, T = 50, Zt_0 = 20, N_scenarios = 400)"
   ]
  },
  {
   "cell_type": "markdown",
   "metadata": {},
   "source": [
    "## DGP[2]"
   ]
  },
  {
   "cell_type": "code",
   "execution_count": 5,
   "metadata": {
    "vscode": {
     "languageId": "r"
    }
   },
   "outputs": [
    {
     "name": "stdout",
     "output_type": "stream",
     "text": [
      "         Mu          Beta       Phi\n",
      "1 0.5071024 -2.459081e-05 0.3558880\n",
      "2 0.5039219 -1.988566e-05 0.3580478\n",
      "3 0.5057333 -2.644422e-05 0.3575075\n",
      "4 0.4984486  6.161048e-06 0.3613513\n",
      "5 0.5131455 -2.479986e-05 0.3500881\n",
      "6 0.4955448  2.551765e-05 0.3624248\n"
     ]
    },
    {
     "data": {
      "text/html": [
       "<table class=\"dataframe\">\n",
       "<caption>A data.frame: 6 × 200</caption>\n",
       "<thead>\n",
       "\t<tr><th></th><th scope=col>X1</th><th scope=col>X2</th><th scope=col>X3</th><th scope=col>X4</th><th scope=col>X5</th><th scope=col>X6</th><th scope=col>X7</th><th scope=col>X8</th><th scope=col>X9</th><th scope=col>X10</th><th scope=col>⋯</th><th scope=col>X191</th><th scope=col>X192</th><th scope=col>X193</th><th scope=col>X194</th><th scope=col>X195</th><th scope=col>X196</th><th scope=col>X197</th><th scope=col>X198</th><th scope=col>X199</th><th scope=col>X200</th></tr>\n",
       "\t<tr><th></th><th scope=col>&lt;dbl&gt;</th><th scope=col>&lt;dbl&gt;</th><th scope=col>&lt;dbl&gt;</th><th scope=col>&lt;dbl&gt;</th><th scope=col>&lt;dbl&gt;</th><th scope=col>&lt;dbl&gt;</th><th scope=col>&lt;dbl&gt;</th><th scope=col>&lt;dbl&gt;</th><th scope=col>&lt;dbl&gt;</th><th scope=col>&lt;dbl&gt;</th><th scope=col>⋯</th><th scope=col>&lt;dbl&gt;</th><th scope=col>&lt;dbl&gt;</th><th scope=col>&lt;dbl&gt;</th><th scope=col>&lt;dbl&gt;</th><th scope=col>&lt;dbl&gt;</th><th scope=col>&lt;dbl&gt;</th><th scope=col>&lt;dbl&gt;</th><th scope=col>&lt;dbl&gt;</th><th scope=col>&lt;dbl&gt;</th><th scope=col>&lt;dbl&gt;</th></tr>\n",
       "</thead>\n",
       "<tbody>\n",
       "\t<tr><th scope=row>1</th><td>40.387546</td><td>40.387727</td><td>40.316121</td><td>40.2786261</td><td>40.5676539</td><td>40.2655022</td><td>40.180484</td><td>40.4860600</td><td>40.237531</td><td>40.3323621</td><td>⋯</td><td>40.4673612</td><td>40.379897</td><td>40.282220</td><td>40.3423930</td><td>40.395607</td><td>40.435649</td><td>40.1441287</td><td>40.373238</td><td>40.443275</td><td>40.3939691</td></tr>\n",
       "\t<tr><th scope=row>2</th><td>14.886626</td><td>15.250031</td><td>15.096501</td><td>15.2153510</td><td>14.7083777</td><td>15.2203776</td><td>15.040346</td><td>14.8793992</td><td>15.086750</td><td>14.8415887</td><td>⋯</td><td>15.1200727</td><td>15.088803</td><td>15.264116</td><td>14.7438216</td><td>15.022573</td><td>15.341239</td><td>15.4783076</td><td>14.874733</td><td>14.643854</td><td>15.0727433</td></tr>\n",
       "\t<tr><th scope=row>3</th><td> 6.223822</td><td> 5.582278</td><td> 5.723102</td><td> 5.9332517</td><td> 5.9938612</td><td> 6.1081163</td><td> 5.956825</td><td> 5.8434809</td><td> 5.910819</td><td> 5.9587963</td><td>⋯</td><td> 5.7813055</td><td> 5.796341</td><td> 5.795889</td><td> 6.1986551</td><td> 5.709610</td><td> 5.977013</td><td> 5.8679759</td><td> 5.898364</td><td> 6.178360</td><td> 5.9450139</td></tr>\n",
       "\t<tr><th scope=row>4</th><td> 2.550710</td><td> 2.667139</td><td> 2.762504</td><td> 2.7919162</td><td> 2.9039847</td><td> 2.4434707</td><td> 2.560700</td><td> 2.7966844</td><td> 2.734982</td><td> 2.7792236</td><td>⋯</td><td> 2.6310623</td><td> 2.490572</td><td> 2.672320</td><td> 2.7139395</td><td> 2.730400</td><td> 2.159694</td><td> 2.6029659</td><td> 2.694255</td><td> 2.563002</td><td> 2.5654585</td></tr>\n",
       "\t<tr><th scope=row>5</th><td> 1.245759</td><td> 1.492071</td><td> 1.469653</td><td> 1.3631385</td><td> 1.1982822</td><td> 1.4312251</td><td> 1.425361</td><td> 1.3802181</td><td> 1.241117</td><td> 1.5148079</td><td>⋯</td><td> 1.7443228</td><td> 1.501685</td><td> 1.194000</td><td> 1.4134530</td><td> 1.658779</td><td> 1.255051</td><td> 1.4495965</td><td> 1.442870</td><td> 1.596854</td><td> 1.3974056</td></tr>\n",
       "\t<tr><th scope=row>6</th><td> 1.144658</td><td> 1.123476</td><td> 1.037369</td><td> 0.6951515</td><td> 0.9509928</td><td> 0.7636566</td><td> 1.267443</td><td> 0.9875174</td><td> 1.303631</td><td> 0.8056503</td><td>⋯</td><td> 0.8031553</td><td> 1.035490</td><td> 1.100956</td><td> 0.9422762</td><td> 1.100014</td><td> 1.158515</td><td> 0.8426247</td><td> 1.244249</td><td> 1.069021</td><td> 0.8671754</td></tr>\n",
       "</tbody>\n",
       "</table>\n"
      ],
      "text/latex": [
       "A data.frame: 6 × 200\n",
       "\\begin{tabular}{r|lllllllllllllllllllll}\n",
       "  & X1 & X2 & X3 & X4 & X5 & X6 & X7 & X8 & X9 & X10 & ⋯ & X191 & X192 & X193 & X194 & X195 & X196 & X197 & X198 & X199 & X200\\\\\n",
       "  & <dbl> & <dbl> & <dbl> & <dbl> & <dbl> & <dbl> & <dbl> & <dbl> & <dbl> & <dbl> & ⋯ & <dbl> & <dbl> & <dbl> & <dbl> & <dbl> & <dbl> & <dbl> & <dbl> & <dbl> & <dbl>\\\\\n",
       "\\hline\n",
       "\t1 & 40.387546 & 40.387727 & 40.316121 & 40.2786261 & 40.5676539 & 40.2655022 & 40.180484 & 40.4860600 & 40.237531 & 40.3323621 & ⋯ & 40.4673612 & 40.379897 & 40.282220 & 40.3423930 & 40.395607 & 40.435649 & 40.1441287 & 40.373238 & 40.443275 & 40.3939691\\\\\n",
       "\t2 & 14.886626 & 15.250031 & 15.096501 & 15.2153510 & 14.7083777 & 15.2203776 & 15.040346 & 14.8793992 & 15.086750 & 14.8415887 & ⋯ & 15.1200727 & 15.088803 & 15.264116 & 14.7438216 & 15.022573 & 15.341239 & 15.4783076 & 14.874733 & 14.643854 & 15.0727433\\\\\n",
       "\t3 &  6.223822 &  5.582278 &  5.723102 &  5.9332517 &  5.9938612 &  6.1081163 &  5.956825 &  5.8434809 &  5.910819 &  5.9587963 & ⋯ &  5.7813055 &  5.796341 &  5.795889 &  6.1986551 &  5.709610 &  5.977013 &  5.8679759 &  5.898364 &  6.178360 &  5.9450139\\\\\n",
       "\t4 &  2.550710 &  2.667139 &  2.762504 &  2.7919162 &  2.9039847 &  2.4434707 &  2.560700 &  2.7966844 &  2.734982 &  2.7792236 & ⋯ &  2.6310623 &  2.490572 &  2.672320 &  2.7139395 &  2.730400 &  2.159694 &  2.6029659 &  2.694255 &  2.563002 &  2.5654585\\\\\n",
       "\t5 &  1.245759 &  1.492071 &  1.469653 &  1.3631385 &  1.1982822 &  1.4312251 &  1.425361 &  1.3802181 &  1.241117 &  1.5148079 & ⋯ &  1.7443228 &  1.501685 &  1.194000 &  1.4134530 &  1.658779 &  1.255051 &  1.4495965 &  1.442870 &  1.596854 &  1.3974056\\\\\n",
       "\t6 &  1.144658 &  1.123476 &  1.037369 &  0.6951515 &  0.9509928 &  0.7636566 &  1.267443 &  0.9875174 &  1.303631 &  0.8056503 & ⋯ &  0.8031553 &  1.035490 &  1.100956 &  0.9422762 &  1.100014 &  1.158515 &  0.8426247 &  1.244249 &  1.069021 &  0.8671754\\\\\n",
       "\\end{tabular}\n"
      ],
      "text/markdown": [
       "\n",
       "A data.frame: 6 × 200\n",
       "\n",
       "| <!--/--> | X1 &lt;dbl&gt; | X2 &lt;dbl&gt; | X3 &lt;dbl&gt; | X4 &lt;dbl&gt; | X5 &lt;dbl&gt; | X6 &lt;dbl&gt; | X7 &lt;dbl&gt; | X8 &lt;dbl&gt; | X9 &lt;dbl&gt; | X10 &lt;dbl&gt; | ⋯ ⋯ | X191 &lt;dbl&gt; | X192 &lt;dbl&gt; | X193 &lt;dbl&gt; | X194 &lt;dbl&gt; | X195 &lt;dbl&gt; | X196 &lt;dbl&gt; | X197 &lt;dbl&gt; | X198 &lt;dbl&gt; | X199 &lt;dbl&gt; | X200 &lt;dbl&gt; |\n",
       "|---|---|---|---|---|---|---|---|---|---|---|---|---|---|---|---|---|---|---|---|---|---|\n",
       "| 1 | 40.387546 | 40.387727 | 40.316121 | 40.2786261 | 40.5676539 | 40.2655022 | 40.180484 | 40.4860600 | 40.237531 | 40.3323621 | ⋯ | 40.4673612 | 40.379897 | 40.282220 | 40.3423930 | 40.395607 | 40.435649 | 40.1441287 | 40.373238 | 40.443275 | 40.3939691 |\n",
       "| 2 | 14.886626 | 15.250031 | 15.096501 | 15.2153510 | 14.7083777 | 15.2203776 | 15.040346 | 14.8793992 | 15.086750 | 14.8415887 | ⋯ | 15.1200727 | 15.088803 | 15.264116 | 14.7438216 | 15.022573 | 15.341239 | 15.4783076 | 14.874733 | 14.643854 | 15.0727433 |\n",
       "| 3 |  6.223822 |  5.582278 |  5.723102 |  5.9332517 |  5.9938612 |  6.1081163 |  5.956825 |  5.8434809 |  5.910819 |  5.9587963 | ⋯ |  5.7813055 |  5.796341 |  5.795889 |  6.1986551 |  5.709610 |  5.977013 |  5.8679759 |  5.898364 |  6.178360 |  5.9450139 |\n",
       "| 4 |  2.550710 |  2.667139 |  2.762504 |  2.7919162 |  2.9039847 |  2.4434707 |  2.560700 |  2.7966844 |  2.734982 |  2.7792236 | ⋯ |  2.6310623 |  2.490572 |  2.672320 |  2.7139395 |  2.730400 |  2.159694 |  2.6029659 |  2.694255 |  2.563002 |  2.5654585 |\n",
       "| 5 |  1.245759 |  1.492071 |  1.469653 |  1.3631385 |  1.1982822 |  1.4312251 |  1.425361 |  1.3802181 |  1.241117 |  1.5148079 | ⋯ |  1.7443228 |  1.501685 |  1.194000 |  1.4134530 |  1.658779 |  1.255051 |  1.4495965 |  1.442870 |  1.596854 |  1.3974056 |\n",
       "| 6 |  1.144658 |  1.123476 |  1.037369 |  0.6951515 |  0.9509928 |  0.7636566 |  1.267443 |  0.9875174 |  1.303631 |  0.8056503 | ⋯ |  0.8031553 |  1.035490 |  1.100956 |  0.9422762 |  1.100014 |  1.158515 |  0.8426247 |  1.244249 |  1.069021 |  0.8671754 |\n",
       "\n"
      ],
      "text/plain": [
       "  X1        X2        X3        X4         X5         X6         X7       \n",
       "1 40.387546 40.387727 40.316121 40.2786261 40.5676539 40.2655022 40.180484\n",
       "2 14.886626 15.250031 15.096501 15.2153510 14.7083777 15.2203776 15.040346\n",
       "3  6.223822  5.582278  5.723102  5.9332517  5.9938612  6.1081163  5.956825\n",
       "4  2.550710  2.667139  2.762504  2.7919162  2.9039847  2.4434707  2.560700\n",
       "5  1.245759  1.492071  1.469653  1.3631385  1.1982822  1.4312251  1.425361\n",
       "6  1.144658  1.123476  1.037369  0.6951515  0.9509928  0.7636566  1.267443\n",
       "  X8         X9        X10        ⋯ X191       X192      X193      X194      \n",
       "1 40.4860600 40.237531 40.3323621 ⋯ 40.4673612 40.379897 40.282220 40.3423930\n",
       "2 14.8793992 15.086750 14.8415887 ⋯ 15.1200727 15.088803 15.264116 14.7438216\n",
       "3  5.8434809  5.910819  5.9587963 ⋯  5.7813055  5.796341  5.795889  6.1986551\n",
       "4  2.7966844  2.734982  2.7792236 ⋯  2.6310623  2.490572  2.672320  2.7139395\n",
       "5  1.3802181  1.241117  1.5148079 ⋯  1.7443228  1.501685  1.194000  1.4134530\n",
       "6  0.9875174  1.303631  0.8056503 ⋯  0.8031553  1.035490  1.100956  0.9422762\n",
       "  X195      X196      X197       X198      X199      X200      \n",
       "1 40.395607 40.435649 40.1441287 40.373238 40.443275 40.3939691\n",
       "2 15.022573 15.341239 15.4783076 14.874733 14.643854 15.0727433\n",
       "3  5.709610  5.977013  5.8679759  5.898364  6.178360  5.9450139\n",
       "4  2.730400  2.159694  2.6029659  2.694255  2.563002  2.5654585\n",
       "5  1.658779  1.255051  1.4495965  1.442870  1.596854  1.3974056\n",
       "6  1.100014  1.158515  0.8426247  1.244249  1.069021  0.8671754"
      ]
     },
     "metadata": {},
     "output_type": "display_data"
    },
    {
     "data": {
      "image/png": "[encoded data removed]",
      "text/plain": [
       "plot without title"
      ]
     },
     "metadata": {
      "image/png": {
       "height": 420,
       "width": 420
      }
     },
     "output_type": "display_data"
    }
   ],
   "source": [
    "DGP.2 = function(Phi, Mu, Beta, Sigma_a, T, Zt_0, N_scenarios = 20, N_remove = 0, K.Dif = 3){\n",
    "    DGP.2 = matrix(data = NA, nrow = T, ncol = N_scenarios)\n",
    "    DGP.2[1, ] = Zt_0\n",
    "    t = c(1 : (T - 1))\n",
    "    for (j in 1 : N_scenarios){\n",
    "        set.seed(j)\n",
    "        At = rnorm(n = T, mean = 0, sd = Sigma_a)\n",
    "        for (i in 2 : T){\n",
    "            DGP.2[i, j] = Mu + Beta * i + Phi * DGP.2[i - 1, j] + At[i]\n",
    "        }\n",
    "        # DGP.2[, j] = DGP.2[, j] - mean(DGP.2[, j])\n",
    "    }\n",
    "    if (N_remove == 0){\n",
    "        Zt.2 = DGP.2\n",
    "    } else {\n",
    "        Zt.2 = DGP.2[-(1 : N_remove), ]\n",
    "    }\n",
    "    Zt.2 = data.frame(Zt.2)\n",
    "\n",
    "    # Estabilización en nivel\n",
    "    Est.Nivel = function(Data, K.Dif){\n",
    "        X = Data\n",
    "        # Operador de diferencia\n",
    "        Diferencia = function(Data, K.Dif){                                 # Operador de diferencia\n",
    "            Serie.dif = matrix(data = NA, nrow = (T - K.Dif), ncol = 1)\n",
    "            for(i in 1: (T - K.Dif)){\n",
    "                Serie.dif[i] <- Data[i + K.Dif] - Data[i]\n",
    "            }\n",
    "            return(Serie.dif)\n",
    "        }\n",
    "\n",
    "        # Matrix con los datos de J\n",
    "        S = matrix(data = NA, nrow = (K.Dif + 1), ncol = 2)\n",
    "        colnames(S) = c('J', 'S(J)')\n",
    "        S[, 1] = seq(0, K.Dif, 1)\n",
    "        for (i in 1 : K.Dif){\n",
    "            # Diferenciación de la serie\n",
    "            X.dif = matrix(data = NA, ncol = 1, nrow = (T - i))\n",
    "            X.dif[, 1] = Diferencia(Data = X, K.Dif = i)\n",
    "\n",
    "            # Cálculo de los S(j) diferenciadores (rezagados)\n",
    "            S[1, 2] = round(sqrt((1 / (T - 0 - 1)) * sum((X - sum(X / (T - 0))) ** 2)), 6)                            # Diferenciación de J = 0\n",
    "            S[(i + 1), 2] = round(sqrt((1 / (T - i - 1)) * sum((X.dif - sum(X.dif / (T - i))) ** 2)), 6)\n",
    "        }\n",
    "\n",
    "        # J óptimo (mínimo)\n",
    "        Opt = which.min(S[, 2])                     # Número en que posición esta el mínimo \n",
    "        J_opt = S[Opt, 1]                           # Número de diferencias aplicadas a la serie\n",
    "\n",
    "        # La transformación aplicada a los datos\n",
    "        X = Diferencia(Data = X, K.Dif = J_opt)\n",
    "    }\n",
    "    \n",
    "    Nt = length(Est.Nivel(Data = Zt.2[, 1], K.Dif = K.Dif) )\n",
    "    Zt.f = matrix(data = NA, nrow = Nt, ncol = N_scenarios)\n",
    "    for (i in 1 : N_scenarios){\n",
    "        Zt.f[, i] = Est.Nivel(Data = Zt.2[, i], K.Dif = K.Dif) \n",
    "    }\n",
    "    Zt.f = data.frame(Zt.f)\n",
    "\n",
    "    # Coeficientes\n",
    "    T = Nt\n",
    "    Coeff = matrix(data = NA, nrow = 3, ncol = N_scenarios)              # Nrow depende del DGP\n",
    "    for (i in 1 : N_scenarios){\n",
    "        Y = Zt.f[2 : T, i]\n",
    "        X = cbind(1, (1 : (T - 1)), Zt.f[1 : (T - 1), i])\n",
    "        Coeff[, i] = solve(t(X) %*% X) %*% t(X) %*% Y\n",
    "    }\n",
    "    Coeff = data.frame(t(Coeff))\n",
    "    colnames(Coeff) = c('Mu', 'Beta', 'Phi')\n",
    "\n",
    "    # Gráficas\n",
    "    Coeff_Mu = ggplot(Coeff, aes(x = Mu)) + \n",
    "    labs(title = 'Histograma de Mu', x = 'Mu', y = 'Densidad') +\n",
    "    geom_histogram(aes(y = ..density..), colour = 'darkblue', fill = 'lightblue', alpha = 0.5, bins = N_scenarios / 4) +\n",
    "    geom_density(alpha = 0.2, fill = \"#FF6666\")\n",
    "\n",
    "    Coeff_Phi = ggplot(Coeff, aes(x = Phi)) + \n",
    "    labs(title = 'Histograma de Phi', x = 'Phi', y = 'Densidad') +\n",
    "    geom_histogram(aes(y = ..density..), colour = 'darkblue', fill = 'lightblue', alpha = 0.5, bins = N_scenarios / 4) +\n",
    "    geom_density(alpha = 0.2, fill = \"#FF6666\")\n",
    "\n",
    "    Coeff_Beta = ggplot(Coeff, aes(x = Beta)) + \n",
    "    labs(title = 'Histograma de Beta', x = 'Beta', y = 'Densidad') +\n",
    "    geom_histogram(aes(y = ..density..), colour = 'darkblue', fill = 'lightblue', alpha = 0.5, bins = N_scenarios / 4) +\n",
    "    geom_density(alpha = 0.2, fill = \"#FF6666\")\n",
    "\n",
    "    # Salidas\n",
    "    print(head(Coeff))\n",
    "    print(Coeff_Mu / Coeff_Beta / Coeff_Phi)\n",
    "    return(head(Zt.f))\n",
    "}\n",
    "\n",
    "DGP.2(Phi = 0.36, Mu = 40, Beta = 0.5, Sigma_a = 0.15, T = 240, Zt_0 = 1, N_scenarios = 200)"
   ]
  },
  {
   "cell_type": "markdown",
   "metadata": {},
   "source": [
    "## DGP[3]"
   ]
  },
  {
   "cell_type": "code",
   "execution_count": 6,
   "metadata": {
    "vscode": {
     "languageId": "r"
    }
   },
   "outputs": [
    {
     "name": "stdout",
     "output_type": "stream",
     "text": [
      "        Zt1\n",
      "1 1.0001439\n",
      "2 1.0001450\n",
      "3 1.0000607\n",
      "4 1.0000360\n",
      "5 1.0002324\n",
      "6 0.9995952\n"
     ]
    },
    {
     "data": {
      "text/html": [
       "<table class=\"dataframe\">\n",
       "<caption>A data.frame: 6 × 400</caption>\n",
       "<thead>\n",
       "\t<tr><th></th><th scope=col>X1</th><th scope=col>X2</th><th scope=col>X3</th><th scope=col>X4</th><th scope=col>X5</th><th scope=col>X6</th><th scope=col>X7</th><th scope=col>X8</th><th scope=col>X9</th><th scope=col>X10</th><th scope=col>⋯</th><th scope=col>X391</th><th scope=col>X392</th><th scope=col>X393</th><th scope=col>X394</th><th scope=col>X395</th><th scope=col>X396</th><th scope=col>X397</th><th scope=col>X398</th><th scope=col>X399</th><th scope=col>X400</th></tr>\n",
       "\t<tr><th></th><th scope=col>&lt;dbl&gt;</th><th scope=col>&lt;dbl&gt;</th><th scope=col>&lt;dbl&gt;</th><th scope=col>&lt;dbl&gt;</th><th scope=col>&lt;dbl&gt;</th><th scope=col>&lt;dbl&gt;</th><th scope=col>&lt;dbl&gt;</th><th scope=col>&lt;dbl&gt;</th><th scope=col>&lt;dbl&gt;</th><th scope=col>&lt;dbl&gt;</th><th scope=col>⋯</th><th scope=col>&lt;dbl&gt;</th><th scope=col>&lt;dbl&gt;</th><th scope=col>&lt;dbl&gt;</th><th scope=col>&lt;dbl&gt;</th><th scope=col>&lt;dbl&gt;</th><th scope=col>&lt;dbl&gt;</th><th scope=col>&lt;dbl&gt;</th><th scope=col>&lt;dbl&gt;</th><th scope=col>&lt;dbl&gt;</th><th scope=col>&lt;dbl&gt;</th></tr>\n",
       "</thead>\n",
       "<tbody>\n",
       "\t<tr><th scope=row>1</th><td>20.00000</td><td>2.995732</td><td>20.00000</td><td>20.00000</td><td>20.00000</td><td>0.05000000</td><td>20.00000</td><td>4.472136</td><td>20.00000</td><td>20.00000</td><td>⋯</td><td>2.995732</td><td>0.2236068</td><td>20.00000</td><td>0.2236068</td><td>20.00000</td><td>0.05000000</td><td>20.00000</td><td>20.00000</td><td>20.00000</td><td>0.05000000</td></tr>\n",
       "\t<tr><th scope=row>2</th><td>20.02755</td><td>2.997118</td><td>19.95612</td><td>19.91863</td><td>20.20765</td><td>0.05023737</td><td>19.82048</td><td>4.486208</td><td>19.87753</td><td>19.97236</td><td>⋯</td><td>2.987372</td><td>0.2225049</td><td>20.00036</td><td>0.2229361</td><td>19.93050</td><td>0.04994274</td><td>19.96847</td><td>20.22781</td><td>20.01147</td><td>0.04977033</td></tr>\n",
       "\t<tr><th scope=row>3</th><td>19.90220</td><td>3.008940</td><td>19.99494</td><td>20.05230</td><td>20.01933</td><td>0.04991066</td><td>19.71634</td><td>4.478453</td><td>19.85630</td><td>19.76666</td><td>⋯</td><td>2.987616</td><td>0.2215279</td><td>20.08312</td><td>0.2225838</td><td>19.73893</td><td>0.05028696</td><td>19.93542</td><td>20.07454</td><td>20.04485</td><td>0.04922899</td></tr>\n",
       "\t<tr><th scope=row>4</th><td>20.14149</td><td>3.000538</td><td>19.82212</td><td>20.14169</td><td>20.02985</td><td>0.04927351</td><td>19.65450</td><td>4.469218</td><td>19.81466</td><td>19.67679</td><td>⋯</td><td>2.978748</td><td>0.2231762</td><td>19.96073</td><td>0.2222898</td><td>19.82909</td><td>0.04992270</td><td>19.90371</td><td>20.12946</td><td>20.18534</td><td>0.04947842</td></tr>\n",
       "\t<tr><th scope=row>5</th><td>20.19092</td><td>2.999939</td><td>19.85149</td><td>20.38704</td><td>20.28657</td><td>0.04926470</td><td>19.50890</td><td>4.481553</td><td>19.88011</td><td>19.72097</td><td>⋯</td><td>2.967606</td><td>0.2227022</td><td>19.85440</td><td>0.2213162</td><td>19.90153</td><td>0.05008406</td><td>19.72969</td><td>20.09263</td><td>20.14864</td><td>0.04970042</td></tr>\n",
       "\t<tr><th scope=row>6</th><td>20.06785</td><td>3.000927</td><td>19.85601</td><td>20.49043</td><td>20.19613</td><td>0.04913109</td><td>19.36680</td><td>4.479747</td><td>19.70208</td><td>19.77944</td><td>⋯</td><td>2.947204</td><td>0.2223919</td><td>19.89890</td><td>0.2213015</td><td>20.11674</td><td>0.04971914</td><td>19.78555</td><td>20.09392</td><td>20.10752</td><td>0.05020670</td></tr>\n",
       "</tbody>\n",
       "</table>\n"
      ],
      "text/latex": [
       "A data.frame: 6 × 400\n",
       "\\begin{tabular}{r|lllllllllllllllllllll}\n",
       "  & X1 & X2 & X3 & X4 & X5 & X6 & X7 & X8 & X9 & X10 & ⋯ & X391 & X392 & X393 & X394 & X395 & X396 & X397 & X398 & X399 & X400\\\\\n",
       "  & <dbl> & <dbl> & <dbl> & <dbl> & <dbl> & <dbl> & <dbl> & <dbl> & <dbl> & <dbl> & ⋯ & <dbl> & <dbl> & <dbl> & <dbl> & <dbl> & <dbl> & <dbl> & <dbl> & <dbl> & <dbl>\\\\\n",
       "\\hline\n",
       "\t1 & 20.00000 & 2.995732 & 20.00000 & 20.00000 & 20.00000 & 0.05000000 & 20.00000 & 4.472136 & 20.00000 & 20.00000 & ⋯ & 2.995732 & 0.2236068 & 20.00000 & 0.2236068 & 20.00000 & 0.05000000 & 20.00000 & 20.00000 & 20.00000 & 0.05000000\\\\\n",
       "\t2 & 20.02755 & 2.997118 & 19.95612 & 19.91863 & 20.20765 & 0.05023737 & 19.82048 & 4.486208 & 19.87753 & 19.97236 & ⋯ & 2.987372 & 0.2225049 & 20.00036 & 0.2229361 & 19.93050 & 0.04994274 & 19.96847 & 20.22781 & 20.01147 & 0.04977033\\\\\n",
       "\t3 & 19.90220 & 3.008940 & 19.99494 & 20.05230 & 20.01933 & 0.04991066 & 19.71634 & 4.478453 & 19.85630 & 19.76666 & ⋯ & 2.987616 & 0.2215279 & 20.08312 & 0.2225838 & 19.73893 & 0.05028696 & 19.93542 & 20.07454 & 20.04485 & 0.04922899\\\\\n",
       "\t4 & 20.14149 & 3.000538 & 19.82212 & 20.14169 & 20.02985 & 0.04927351 & 19.65450 & 4.469218 & 19.81466 & 19.67679 & ⋯ & 2.978748 & 0.2231762 & 19.96073 & 0.2222898 & 19.82909 & 0.04992270 & 19.90371 & 20.12946 & 20.18534 & 0.04947842\\\\\n",
       "\t5 & 20.19092 & 2.999939 & 19.85149 & 20.38704 & 20.28657 & 0.04926470 & 19.50890 & 4.481553 & 19.88011 & 19.72097 & ⋯ & 2.967606 & 0.2227022 & 19.85440 & 0.2213162 & 19.90153 & 0.05008406 & 19.72969 & 20.09263 & 20.14864 & 0.04970042\\\\\n",
       "\t6 & 20.06785 & 3.000927 & 19.85601 & 20.49043 & 20.19613 & 0.04913109 & 19.36680 & 4.479747 & 19.70208 & 19.77944 & ⋯ & 2.947204 & 0.2223919 & 19.89890 & 0.2213015 & 20.11674 & 0.04971914 & 19.78555 & 20.09392 & 20.10752 & 0.05020670\\\\\n",
       "\\end{tabular}\n"
      ],
      "text/markdown": [
       "\n",
       "A data.frame: 6 × 400\n",
       "\n",
       "| <!--/--> | X1 &lt;dbl&gt; | X2 &lt;dbl&gt; | X3 &lt;dbl&gt; | X4 &lt;dbl&gt; | X5 &lt;dbl&gt; | X6 &lt;dbl&gt; | X7 &lt;dbl&gt; | X8 &lt;dbl&gt; | X9 &lt;dbl&gt; | X10 &lt;dbl&gt; | ⋯ ⋯ | X391 &lt;dbl&gt; | X392 &lt;dbl&gt; | X393 &lt;dbl&gt; | X394 &lt;dbl&gt; | X395 &lt;dbl&gt; | X396 &lt;dbl&gt; | X397 &lt;dbl&gt; | X398 &lt;dbl&gt; | X399 &lt;dbl&gt; | X400 &lt;dbl&gt; |\n",
       "|---|---|---|---|---|---|---|---|---|---|---|---|---|---|---|---|---|---|---|---|---|---|\n",
       "| 1 | 20.00000 | 2.995732 | 20.00000 | 20.00000 | 20.00000 | 0.05000000 | 20.00000 | 4.472136 | 20.00000 | 20.00000 | ⋯ | 2.995732 | 0.2236068 | 20.00000 | 0.2236068 | 20.00000 | 0.05000000 | 20.00000 | 20.00000 | 20.00000 | 0.05000000 |\n",
       "| 2 | 20.02755 | 2.997118 | 19.95612 | 19.91863 | 20.20765 | 0.05023737 | 19.82048 | 4.486208 | 19.87753 | 19.97236 | ⋯ | 2.987372 | 0.2225049 | 20.00036 | 0.2229361 | 19.93050 | 0.04994274 | 19.96847 | 20.22781 | 20.01147 | 0.04977033 |\n",
       "| 3 | 19.90220 | 3.008940 | 19.99494 | 20.05230 | 20.01933 | 0.04991066 | 19.71634 | 4.478453 | 19.85630 | 19.76666 | ⋯ | 2.987616 | 0.2215279 | 20.08312 | 0.2225838 | 19.73893 | 0.05028696 | 19.93542 | 20.07454 | 20.04485 | 0.04922899 |\n",
       "| 4 | 20.14149 | 3.000538 | 19.82212 | 20.14169 | 20.02985 | 0.04927351 | 19.65450 | 4.469218 | 19.81466 | 19.67679 | ⋯ | 2.978748 | 0.2231762 | 19.96073 | 0.2222898 | 19.82909 | 0.04992270 | 19.90371 | 20.12946 | 20.18534 | 0.04947842 |\n",
       "| 5 | 20.19092 | 2.999939 | 19.85149 | 20.38704 | 20.28657 | 0.04926470 | 19.50890 | 4.481553 | 19.88011 | 19.72097 | ⋯ | 2.967606 | 0.2227022 | 19.85440 | 0.2213162 | 19.90153 | 0.05008406 | 19.72969 | 20.09263 | 20.14864 | 0.04970042 |\n",
       "| 6 | 20.06785 | 3.000927 | 19.85601 | 20.49043 | 20.19613 | 0.04913109 | 19.36680 | 4.479747 | 19.70208 | 19.77944 | ⋯ | 2.947204 | 0.2223919 | 19.89890 | 0.2213015 | 20.11674 | 0.04971914 | 19.78555 | 20.09392 | 20.10752 | 0.05020670 |\n",
       "\n"
      ],
      "text/plain": [
       "  X1       X2       X3       X4       X5       X6         X7       X8      \n",
       "1 20.00000 2.995732 20.00000 20.00000 20.00000 0.05000000 20.00000 4.472136\n",
       "2 20.02755 2.997118 19.95612 19.91863 20.20765 0.05023737 19.82048 4.486208\n",
       "3 19.90220 3.008940 19.99494 20.05230 20.01933 0.04991066 19.71634 4.478453\n",
       "4 20.14149 3.000538 19.82212 20.14169 20.02985 0.04927351 19.65450 4.469218\n",
       "5 20.19092 2.999939 19.85149 20.38704 20.28657 0.04926470 19.50890 4.481553\n",
       "6 20.06785 3.000927 19.85601 20.49043 20.19613 0.04913109 19.36680 4.479747\n",
       "  X9       X10      ⋯ X391     X392      X393     X394      X395     X396      \n",
       "1 20.00000 20.00000 ⋯ 2.995732 0.2236068 20.00000 0.2236068 20.00000 0.05000000\n",
       "2 19.87753 19.97236 ⋯ 2.987372 0.2225049 20.00036 0.2229361 19.93050 0.04994274\n",
       "3 19.85630 19.76666 ⋯ 2.987616 0.2215279 20.08312 0.2225838 19.73893 0.05028696\n",
       "4 19.81466 19.67679 ⋯ 2.978748 0.2231762 19.96073 0.2222898 19.82909 0.04992270\n",
       "5 19.88011 19.72097 ⋯ 2.967606 0.2227022 19.85440 0.2213162 19.90153 0.05008406\n",
       "6 19.70208 19.77944 ⋯ 2.947204 0.2223919 19.89890 0.2213015 20.11674 0.04971914\n",
       "  X397     X398     X399     X400      \n",
       "1 20.00000 20.00000 20.00000 0.05000000\n",
       "2 19.96847 20.22781 20.01147 0.04977033\n",
       "3 19.93542 20.07454 20.04485 0.04922899\n",
       "4 19.90371 20.12946 20.18534 0.04947842\n",
       "5 19.72969 20.09263 20.14864 0.04970042\n",
       "6 19.78555 20.09392 20.10752 0.05020670"
      ]
     },
     "metadata": {},
     "output_type": "display_data"
    },
    {
     "data": {
      "image/png": "[encoded data removed]",
      "text/plain": [
       "plot without title"
      ]
     },
     "metadata": {
      "image/png": {
       "height": 420,
       "width": 420
      }
     },
     "output_type": "display_data"
    }
   ],
   "source": [
    "DGP.3 = function(Sigma_a, T, Zt_0, N_scenarios = 20, N_remove = 0){\n",
    "    DGP.3 = matrix(data = NA, nrow = T, ncol = N_scenarios)\n",
    "    DGP.3[1, ] = Zt_0\n",
    "    for (j in 1 : N_scenarios){\n",
    "        set.seed(j)\n",
    "        At = rnorm(n = T, mean = 0, sd = Sigma_a)\n",
    "        for (i in 2 : T){\n",
    "            DGP.3[i, j] = DGP.3[i - 1, j] + At[i]\n",
    "        }\n",
    "        # DGP.3[, j] = DGP.3[, j] - mean(DGP.3[, j])\n",
    "    }\n",
    "    if (N_remove == 0){\n",
    "        Zt.3 = DGP.3\n",
    "    } else {\n",
    "        Zt.3 = DGP.3[-(1 : N_remove), ]\n",
    "    }\n",
    "    Zt.3 = data.frame(Zt.3)\n",
    "\n",
    "    # Estabilización en varianza\n",
    "    Est.Var = function(Data, R = 12, Lambdas = c(-1, -0.5, 0, 0.5, 1)){\n",
    "        X = Data\n",
    "        T = length(X)\n",
    "\n",
    "        # Función para verificar si un número es entero o no\n",
    "        is.wholenumber <- function(x, tol = .Machine$double.eps ** 0.5)abs(x - round(x)) < tol             # TRUE = Entero, FALSE = Decimal\n",
    "\n",
    "        # Redefinición de los datos\n",
    "        X.r = matrix(data = X, nrow = 12)\n",
    "        if (is.wholenumber(T / R) == 'FALSE'){\n",
    "            H = floor(T / R)\n",
    "            if (T > (H * R)){                                     # Llenar de NA los datos que se repiten al no ser múltiplo de R la matriz\n",
    "                l = T - (H * R)\n",
    "                X.r[((l + 1) : R), (H + 1)] = NA\n",
    "            }\n",
    "        } else if (is.wholenumber(T / R) == 'TRUE'){\n",
    "            H = T / R\n",
    "            X.r = matrix(data = X, nrow = R)\n",
    "        }\n",
    "\n",
    "        # Cálculo de las medias y desviaciones\n",
    "        Zb = matrix(data = NA, ncol = H, nrow = 1)\n",
    "        Zvar = matrix(data = NA, ncol = H, nrow = 1)\n",
    "        for (i in 1 : H){\n",
    "        Zb[i] = sum(X.r[, i]) / R\n",
    "        Zvar[i] = sqrt((sum((X.r[, i] - Zb[i]) ** 2)) / (R - 1))\n",
    "        }\n",
    "\n",
    "        # Crear vector de lambdas\n",
    "        Nlambdas = length(Lambdas)\n",
    "\n",
    "        # Datos transformados\n",
    "        Data.t = matrix(data = NA, ncol = Nlambdas, nrow = H)\n",
    "        for (i in 1 : Nlambdas){\n",
    "            for (j in 1 : H){\n",
    "                Data.t[j, i] = Zvar[j] / (Zb[j] ** (1 - Lambdas[i])) \n",
    "            }\n",
    "        }\n",
    "\n",
    "        # Matriz con los datos de los lambas\n",
    "        MLambda = matrix(data = NA, nrow = Nlambdas, ncol = 4)\n",
    "        colnames(MLambda) = c(\"Lambda\", \"M (Lambda)\",\"SD (Lambda)\",\"CV (Lambda)\")\n",
    "        MLambda[, 1] = Lambdas\n",
    "\n",
    "        for (i in 1 : Nlambdas){\n",
    "        MLambda[i, 2] = mean(Data.t[, i])\n",
    "        MLambda[i, 3] = sqrt((sum((Data.t[, i] - MLambda[i, 2]) ** 2)) / (H - 1))\n",
    "        MLambda[i, 4] = MLambda[i, 3] / MLambda[i, 2]\n",
    "        }\n",
    "\n",
    "        # Lambda óptimo (mínimo)\n",
    "        Opt = which.min(MLambda[, 4])                     # Número en que posición esta el mínimo \n",
    "        Lambda_opt = Lambdas[Opt]                         # Lambda óptimo\n",
    "\n",
    "        # La transformación aplicada a los datos\n",
    "        if (Lambda_opt == 0){\n",
    "            X = log(X)\n",
    "        } else {\n",
    "            X = X ** Lambda_opt\n",
    "        }\n",
    "        # print(Lambda_opt)\n",
    "    }\n",
    "\n",
    "    Nt = length(Est.Var(Data = Zt.3[, 1]))\n",
    "    Zt.f = matrix(data = NA, nrow = Nt, ncol = N_scenarios)\n",
    "    for (i in 1 : N_scenarios){\n",
    "        Zt.f[, i] = Est.Var(Data = Zt.3[, i]) \n",
    "    }\n",
    "    Zt.f = data.frame(Zt.f)\n",
    "\n",
    "    # Coeficientes  \n",
    "    T = Nt\n",
    "    Coeff = matrix(data = NA, nrow = 1, ncol = N_scenarios)              # Nrow depende del DGP\n",
    "    for (i in 1 : N_scenarios){\n",
    "        Y = Zt.3[2 : T, i]\n",
    "        X = cbind(Zt.3[1 : (T - 1), i])\n",
    "        Coeff[, i] = solve(t(X) %*% X) %*% t(X) %*% Y\n",
    "    }\n",
    "    Coeff = data.frame(t(Coeff))\n",
    "    colnames(Coeff) = c('Zt1')\n",
    "\n",
    "    # Gráficas\n",
    "    Coeff_Zt1 = ggplot(Coeff, aes(x = Zt1)) + \n",
    "    labs(title = 'Histograma de Zt - 1', x = 'Zt - 1', y = 'Densidad') +\n",
    "    geom_histogram(aes(y = ..density..), colour = 'darkblue', fill = 'lightblue', alpha = 0.05, bins = N_scenarios / 4) +\n",
    "    geom_density(alpha = 0.2, fill = \"#FF6666\")\n",
    "\n",
    "    # Salidas\n",
    "    print(head(Coeff))\n",
    "    print(Coeff_Zt1)\n",
    "    return(head(Zt.f))\n",
    "}\n",
    "\n",
    "DGP.3(Sigma_a = 0.15, T = 240, Zt_0 = 20, N_scenarios = 400)"
   ]
  },
  {
   "cell_type": "markdown",
   "metadata": {},
   "source": [
    "## DGP[4]"
   ]
  },
  {
   "cell_type": "code",
   "execution_count": 7,
   "metadata": {
    "vscode": {
     "languageId": "r"
    }
   },
   "outputs": [
    {
     "name": "stdout",
     "output_type": "stream",
     "text": [
      "        Mu       Zt1\n",
      "1 20.02328 0.9999917\n",
      "2 20.00949 0.9999977\n",
      "3 19.99969 1.0000010\n",
      "4 20.02720 0.9999890\n",
      "5 20.00649 0.9999992\n",
      "6 19.99851 0.9999972\n"
     ]
    },
    {
     "data": {
      "text/html": [
       "<table class=\"dataframe\">\n",
       "<caption>A data.frame: 6 × 400</caption>\n",
       "<thead>\n",
       "\t<tr><th></th><th scope=col>X1</th><th scope=col>X2</th><th scope=col>X3</th><th scope=col>X4</th><th scope=col>X5</th><th scope=col>X6</th><th scope=col>X7</th><th scope=col>X8</th><th scope=col>X9</th><th scope=col>X10</th><th scope=col>⋯</th><th scope=col>X391</th><th scope=col>X392</th><th scope=col>X393</th><th scope=col>X394</th><th scope=col>X395</th><th scope=col>X396</th><th scope=col>X397</th><th scope=col>X398</th><th scope=col>X399</th><th scope=col>X400</th></tr>\n",
       "\t<tr><th></th><th scope=col>&lt;dbl&gt;</th><th scope=col>&lt;dbl&gt;</th><th scope=col>&lt;dbl&gt;</th><th scope=col>&lt;dbl&gt;</th><th scope=col>&lt;dbl&gt;</th><th scope=col>&lt;dbl&gt;</th><th scope=col>&lt;dbl&gt;</th><th scope=col>&lt;dbl&gt;</th><th scope=col>&lt;dbl&gt;</th><th scope=col>&lt;dbl&gt;</th><th scope=col>⋯</th><th scope=col>&lt;dbl&gt;</th><th scope=col>&lt;dbl&gt;</th><th scope=col>&lt;dbl&gt;</th><th scope=col>&lt;dbl&gt;</th><th scope=col>&lt;dbl&gt;</th><th scope=col>&lt;dbl&gt;</th><th scope=col>&lt;dbl&gt;</th><th scope=col>&lt;dbl&gt;</th><th scope=col>&lt;dbl&gt;</th><th scope=col>&lt;dbl&gt;</th></tr>\n",
       "</thead>\n",
       "<tbody>\n",
       "\t<tr><th scope=row>1</th><td>20.02755</td><td>20.02773</td><td>19.95612</td><td>19.91863</td><td>20.20765</td><td>19.90550</td><td>19.82048</td><td>20.12606</td><td>19.87753</td><td>19.97236</td><td>⋯</td><td>19.83348</td><td>20.19858</td><td>20.00036</td><td>20.12052</td><td>19.93050</td><td>20.02293</td><td>19.96847</td><td>20.22781</td><td>20.01147</td><td>20.09229</td></tr>\n",
       "\t<tr><th scope=row>2</th><td>19.87466</td><td>20.23818</td><td>20.03882</td><td>20.13367</td><td>19.81168</td><td>20.13030</td><td>19.89586</td><td>19.93048</td><td>19.97877</td><td>19.79430</td><td>⋯</td><td>20.00485</td><td>20.17855</td><td>20.08276</td><td>20.06375</td><td>19.80843</td><td>19.86294</td><td>19.96695</td><td>19.84673</td><td>20.03338</td><td>20.22094</td></tr>\n",
       "\t<tr><th scope=row>3</th><td>20.23929</td><td>19.83044</td><td>19.82718</td><td>20.08940</td><td>20.01052</td><td>20.25908</td><td>19.93816</td><td>19.91737</td><td>19.95836</td><td>19.91012</td><td>⋯</td><td>19.82485</td><td>19.70012</td><td>19.87761</td><td>20.05342</td><td>20.09017</td><td>20.14510</td><td>19.96829</td><td>20.05492</td><td>20.14049</td><td>19.89760</td></tr>\n",
       "\t<tr><th scope=row>4</th><td>20.04943</td><td>19.98796</td><td>20.02937</td><td>20.24534</td><td>20.25672</td><td>20.00363</td><td>19.85440</td><td>20.11041</td><td>20.06545</td><td>20.04418</td><td>⋯</td><td>19.78213</td><td>20.08556</td><td>19.89368</td><td>20.17845</td><td>20.07244</td><td>19.93546</td><td>19.82598</td><td>19.96317</td><td>19.96330</td><td>19.90972</td></tr>\n",
       "\t<tr><th scope=row>5</th><td>19.87693</td><td>20.01986</td><td>20.00452</td><td>20.10339</td><td>19.90956</td><td>20.05520</td><td>19.85791</td><td>19.98382</td><td>19.82197</td><td>20.05847</td><td>⋯</td><td>19.60729</td><td>20.05631</td><td>20.04449</td><td>20.00272</td><td>20.21521</td><td>20.14655</td><td>20.05586</td><td>20.00129</td><td>19.95889</td><td>19.79711</td></tr>\n",
       "\t<tr><th scope=row>6</th><td>20.07311</td><td>20.10619</td><td>20.01281</td><td>19.80781</td><td>19.92918</td><td>19.80362</td><td>20.11222</td><td>19.97446</td><td>20.17880</td><td>19.81879</td><td>⋯</td><td>20.03983</td><td>20.14277</td><td>19.87890</td><td>20.09309</td><td>20.08203</td><td>19.94364</td><td>19.90647</td><td>20.13747</td><td>20.02512</td><td>20.12911</td></tr>\n",
       "</tbody>\n",
       "</table>\n"
      ],
      "text/latex": [
       "A data.frame: 6 × 400\n",
       "\\begin{tabular}{r|lllllllllllllllllllll}\n",
       "  & X1 & X2 & X3 & X4 & X5 & X6 & X7 & X8 & X9 & X10 & ⋯ & X391 & X392 & X393 & X394 & X395 & X396 & X397 & X398 & X399 & X400\\\\\n",
       "  & <dbl> & <dbl> & <dbl> & <dbl> & <dbl> & <dbl> & <dbl> & <dbl> & <dbl> & <dbl> & ⋯ & <dbl> & <dbl> & <dbl> & <dbl> & <dbl> & <dbl> & <dbl> & <dbl> & <dbl> & <dbl>\\\\\n",
       "\\hline\n",
       "\t1 & 20.02755 & 20.02773 & 19.95612 & 19.91863 & 20.20765 & 19.90550 & 19.82048 & 20.12606 & 19.87753 & 19.97236 & ⋯ & 19.83348 & 20.19858 & 20.00036 & 20.12052 & 19.93050 & 20.02293 & 19.96847 & 20.22781 & 20.01147 & 20.09229\\\\\n",
       "\t2 & 19.87466 & 20.23818 & 20.03882 & 20.13367 & 19.81168 & 20.13030 & 19.89586 & 19.93048 & 19.97877 & 19.79430 & ⋯ & 20.00485 & 20.17855 & 20.08276 & 20.06375 & 19.80843 & 19.86294 & 19.96695 & 19.84673 & 20.03338 & 20.22094\\\\\n",
       "\t3 & 20.23929 & 19.83044 & 19.82718 & 20.08940 & 20.01052 & 20.25908 & 19.93816 & 19.91737 & 19.95836 & 19.91012 & ⋯ & 19.82485 & 19.70012 & 19.87761 & 20.05342 & 20.09017 & 20.14510 & 19.96829 & 20.05492 & 20.14049 & 19.89760\\\\\n",
       "\t4 & 20.04943 & 19.98796 & 20.02937 & 20.24534 & 20.25672 & 20.00363 & 19.85440 & 20.11041 & 20.06545 & 20.04418 & ⋯ & 19.78213 & 20.08556 & 19.89368 & 20.17845 & 20.07244 & 19.93546 & 19.82598 & 19.96317 & 19.96330 & 19.90972\\\\\n",
       "\t5 & 19.87693 & 20.01986 & 20.00452 & 20.10339 & 19.90956 & 20.05520 & 19.85791 & 19.98382 & 19.82197 & 20.05847 & ⋯ & 19.60729 & 20.05631 & 20.04449 & 20.00272 & 20.21521 & 20.14655 & 20.05586 & 20.00129 & 19.95889 & 19.79711\\\\\n",
       "\t6 & 20.07311 & 20.10619 & 20.01281 & 19.80781 & 19.92918 & 19.80362 & 20.11222 & 19.97446 & 20.17880 & 19.81879 & ⋯ & 20.03983 & 20.14277 & 19.87890 & 20.09309 & 20.08203 & 19.94364 & 19.90647 & 20.13747 & 20.02512 & 20.12911\\\\\n",
       "\\end{tabular}\n"
      ],
      "text/markdown": [
       "\n",
       "A data.frame: 6 × 400\n",
       "\n",
       "| <!--/--> | X1 &lt;dbl&gt; | X2 &lt;dbl&gt; | X3 &lt;dbl&gt; | X4 &lt;dbl&gt; | X5 &lt;dbl&gt; | X6 &lt;dbl&gt; | X7 &lt;dbl&gt; | X8 &lt;dbl&gt; | X9 &lt;dbl&gt; | X10 &lt;dbl&gt; | ⋯ ⋯ | X391 &lt;dbl&gt; | X392 &lt;dbl&gt; | X393 &lt;dbl&gt; | X394 &lt;dbl&gt; | X395 &lt;dbl&gt; | X396 &lt;dbl&gt; | X397 &lt;dbl&gt; | X398 &lt;dbl&gt; | X399 &lt;dbl&gt; | X400 &lt;dbl&gt; |\n",
       "|---|---|---|---|---|---|---|---|---|---|---|---|---|---|---|---|---|---|---|---|---|---|\n",
       "| 1 | 20.02755 | 20.02773 | 19.95612 | 19.91863 | 20.20765 | 19.90550 | 19.82048 | 20.12606 | 19.87753 | 19.97236 | ⋯ | 19.83348 | 20.19858 | 20.00036 | 20.12052 | 19.93050 | 20.02293 | 19.96847 | 20.22781 | 20.01147 | 20.09229 |\n",
       "| 2 | 19.87466 | 20.23818 | 20.03882 | 20.13367 | 19.81168 | 20.13030 | 19.89586 | 19.93048 | 19.97877 | 19.79430 | ⋯ | 20.00485 | 20.17855 | 20.08276 | 20.06375 | 19.80843 | 19.86294 | 19.96695 | 19.84673 | 20.03338 | 20.22094 |\n",
       "| 3 | 20.23929 | 19.83044 | 19.82718 | 20.08940 | 20.01052 | 20.25908 | 19.93816 | 19.91737 | 19.95836 | 19.91012 | ⋯ | 19.82485 | 19.70012 | 19.87761 | 20.05342 | 20.09017 | 20.14510 | 19.96829 | 20.05492 | 20.14049 | 19.89760 |\n",
       "| 4 | 20.04943 | 19.98796 | 20.02937 | 20.24534 | 20.25672 | 20.00363 | 19.85440 | 20.11041 | 20.06545 | 20.04418 | ⋯ | 19.78213 | 20.08556 | 19.89368 | 20.17845 | 20.07244 | 19.93546 | 19.82598 | 19.96317 | 19.96330 | 19.90972 |\n",
       "| 5 | 19.87693 | 20.01986 | 20.00452 | 20.10339 | 19.90956 | 20.05520 | 19.85791 | 19.98382 | 19.82197 | 20.05847 | ⋯ | 19.60729 | 20.05631 | 20.04449 | 20.00272 | 20.21521 | 20.14655 | 20.05586 | 20.00129 | 19.95889 | 19.79711 |\n",
       "| 6 | 20.07311 | 20.10619 | 20.01281 | 19.80781 | 19.92918 | 19.80362 | 20.11222 | 19.97446 | 20.17880 | 19.81879 | ⋯ | 20.03983 | 20.14277 | 19.87890 | 20.09309 | 20.08203 | 19.94364 | 19.90647 | 20.13747 | 20.02512 | 20.12911 |\n",
       "\n"
      ],
      "text/plain": [
       "  X1       X2       X3       X4       X5       X6       X7       X8      \n",
       "1 20.02755 20.02773 19.95612 19.91863 20.20765 19.90550 19.82048 20.12606\n",
       "2 19.87466 20.23818 20.03882 20.13367 19.81168 20.13030 19.89586 19.93048\n",
       "3 20.23929 19.83044 19.82718 20.08940 20.01052 20.25908 19.93816 19.91737\n",
       "4 20.04943 19.98796 20.02937 20.24534 20.25672 20.00363 19.85440 20.11041\n",
       "5 19.87693 20.01986 20.00452 20.10339 19.90956 20.05520 19.85791 19.98382\n",
       "6 20.07311 20.10619 20.01281 19.80781 19.92918 19.80362 20.11222 19.97446\n",
       "  X9       X10      ⋯ X391     X392     X393     X394     X395     X396    \n",
       "1 19.87753 19.97236 ⋯ 19.83348 20.19858 20.00036 20.12052 19.93050 20.02293\n",
       "2 19.97877 19.79430 ⋯ 20.00485 20.17855 20.08276 20.06375 19.80843 19.86294\n",
       "3 19.95836 19.91012 ⋯ 19.82485 19.70012 19.87761 20.05342 20.09017 20.14510\n",
       "4 20.06545 20.04418 ⋯ 19.78213 20.08556 19.89368 20.17845 20.07244 19.93546\n",
       "5 19.82197 20.05847 ⋯ 19.60729 20.05631 20.04449 20.00272 20.21521 20.14655\n",
       "6 20.17880 19.81879 ⋯ 20.03983 20.14277 19.87890 20.09309 20.08203 19.94364\n",
       "  X397     X398     X399     X400    \n",
       "1 19.96847 20.22781 20.01147 20.09229\n",
       "2 19.96695 19.84673 20.03338 20.22094\n",
       "3 19.96829 20.05492 20.14049 19.89760\n",
       "4 19.82598 19.96317 19.96330 19.90972\n",
       "5 20.05586 20.00129 19.95889 19.79711\n",
       "6 19.90647 20.13747 20.02512 20.12911"
      ]
     },
     "metadata": {},
     "output_type": "display_data"
    },
    {
     "data": {
      "image/png": "[encoded data removed]",
      "text/plain": [
       "plot without title"
      ]
     },
     "metadata": {
      "image/png": {
       "height": 420,
       "width": 420
      }
     },
     "output_type": "display_data"
    }
   ],
   "source": [
    "DGP.4 = function(Mu, Sigma_a, T, Zt_0, N_scenarios = 20, N_remove = 0, K.Dif = 3){\n",
    "    DGP.4 = matrix(data = NA, nrow = T, ncol = N_scenarios)\n",
    "    DGP.4[1, ] = Zt_0\n",
    "    for (j in 1 : N_scenarios){\n",
    "        set.seed(j)\n",
    "        At = rnorm(n = T, mean = 0, sd = Sigma_a)\n",
    "        for (i in 2 : T){\n",
    "            DGP.4[i, j] = Mu + DGP.4[i - 1, j] + At[i]\n",
    "        }\n",
    "        # DGP.4[, j] = DGP.4[, j] - mean(DGP.4[, j])\n",
    "    }\n",
    "    if (N_remove == 0){\n",
    "        Zt.4 = DGP.4\n",
    "    } else {\n",
    "        Zt.4 = DGP.4[-(1 : N_remove), ]\n",
    "    }\n",
    "    Zt.4 = data.frame(Zt.4)\n",
    "\n",
    "    # Estabilización en varianza\n",
    "    Est.Var = function(Data, R = 12, Lambdas = c(-1, -0.5, 0, 0.5, 1)){\n",
    "        X = Data\n",
    "        T = length(X)\n",
    "\n",
    "        # Función para verificar si un número es entero o no\n",
    "        is.wholenumber <- function(x, tol = .Machine$double.eps ** 0.5)abs(x - round(x)) < tol             # TRUE = Entero, FALSE = Decimal\n",
    "\n",
    "        # Redefinición de los datos\n",
    "        X.r = matrix(data = X, nrow = 12)\n",
    "        if (is.wholenumber(T / R) == 'FALSE'){\n",
    "            H = floor(T / R)\n",
    "            if (T > (H * R)){                                     # Llenar de NA los datos que se repiten al no ser múltiplo de R la matriz\n",
    "                l = T - (H * R)\n",
    "                X.r[((l + 1) : R), (H + 1)] = NA\n",
    "            }\n",
    "        } else if (is.wholenumber(T / R) == 'TRUE'){\n",
    "            H = T / R\n",
    "            X.r = matrix(data = X, nrow = R)\n",
    "        }\n",
    "\n",
    "        # Cálculo de las medias y desviaciones\n",
    "        Zb = matrix(data = NA, ncol = H, nrow = 1)\n",
    "        Zvar = matrix(data = NA, ncol = H, nrow = 1)\n",
    "        for (i in 1 : H){\n",
    "        Zb[i] = sum(X.r[, i]) / R\n",
    "        Zvar[i] = sqrt((sum((X.r[, i] - Zb[i]) ** 2)) / (R - 1))\n",
    "        }\n",
    "\n",
    "        # Crear vector de lambdas\n",
    "        Nlambdas = length(Lambdas)\n",
    "\n",
    "        # Datos transformados\n",
    "        Data.t = matrix(data = NA, ncol = Nlambdas, nrow = H)\n",
    "        for (i in 1 : Nlambdas){\n",
    "            for (j in 1 : H){\n",
    "                Data.t[j, i] = Zvar[j] / (Zb[j] ** (1 - Lambdas[i])) \n",
    "            }\n",
    "        }\n",
    "\n",
    "        # Matriz con los datos de los lambas\n",
    "        MLambda = matrix(data = NA, nrow = Nlambdas, ncol = 4)\n",
    "        colnames(MLambda) = c(\"Lambda\", \"M (Lambda)\",\"SD (Lambda)\",\"CV (Lambda)\")\n",
    "        MLambda[, 1] = Lambdas\n",
    "\n",
    "        for (i in 1 : Nlambdas){\n",
    "        MLambda[i, 2] = mean(Data.t[, i])\n",
    "        MLambda[i, 3] = sqrt((sum((Data.t[, i] - MLambda[i, 2]) ** 2)) / (H - 1))\n",
    "        MLambda[i, 4] = MLambda[i, 3] / MLambda[i, 2]\n",
    "        }\n",
    "\n",
    "        # Lambda óptimo (mínimo)\n",
    "        Opt = which.min(MLambda[, 4])                     # Número en que posición esta el mínimo \n",
    "        Lambda_opt = Lambdas[Opt]                         # Lambda óptimo\n",
    "\n",
    "        # La transformación aplicada a los datos\n",
    "        if (Lambda_opt == 0){\n",
    "            X = log(X)\n",
    "        } else {\n",
    "            X = X ** Lambda_opt\n",
    "        }\n",
    "        # print(Lambda_opt)\n",
    "    }\n",
    "\n",
    "    Nt = length(Est.Var(Data = Zt.4[, 1]))\n",
    "    Zt.v = matrix(data = NA, nrow = Nt, ncol = N_scenarios)\n",
    "    for (i in 1 : N_scenarios){\n",
    "        Zt.v[, i] = Est.Var(Data = Zt.4[, i]) \n",
    "    }\n",
    "    Zt.v = data.frame(Zt.v)\n",
    "\n",
    "    # Estabilización en nivel\n",
    "    Est.Nivel = function(Data, K.Dif){\n",
    "        X = Data\n",
    "        T = length(X)\n",
    "        # Operador de diferencia\n",
    "        Diferencia = function(Data, K.Dif){                                 # Operador de diferencia\n",
    "            Serie.dif = matrix(data = NA, nrow = (T - K.Dif), ncol = 1)\n",
    "            for(i in 1: (T - K.Dif)){\n",
    "                Serie.dif[i] <- Data[i + K.Dif] - Data[i]\n",
    "            }\n",
    "            return(Serie.dif)\n",
    "        }\n",
    "\n",
    "        # Matrix con los datos de J\n",
    "        S = matrix(data = NA, nrow = (K.Dif + 1), ncol = 2)\n",
    "        colnames(S) = c('J', 'S(J)')\n",
    "        S[, 1] = seq(0, K.Dif, 1)\n",
    "        for (i in 1 : K.Dif){\n",
    "            # Diferenciación de la serie\n",
    "            X.dif = matrix(data = NA, ncol = 1, nrow = (T - i))\n",
    "            X.dif[, 1] = Diferencia(Data = X, K.Dif = i)\n",
    "\n",
    "            # Cálculo de los S(j) diferenciadores (rezagados)\n",
    "            S[1, 2] = round(sqrt((1 / (T - 0 - 1)) * sum((X - sum(X / (T - 0))) ** 2)), 6)                            # Diferenciación de J = 0\n",
    "            S[(i + 1), 2] = round(sqrt((1 / (T - i - 1)) * sum((X.dif - sum(X.dif / (T - i))) ** 2)), 6)\n",
    "        }\n",
    "\n",
    "        # J óptimo (mínimo)\n",
    "        Opt = which.min(S[, 2])                     # Número en que posición esta el mínimo \n",
    "        J_opt = S[Opt, 1]                           # Número de diferencias aplicadas a la serie\n",
    "\n",
    "        # La transformación aplicada a los datos\n",
    "        X = Diferencia(Data = X, K.Dif = J_opt)\n",
    "    }\n",
    "    \n",
    "    Nt = length(Est.Nivel(Data = Zt.v[, 1], K.Dif = K.Dif))\n",
    "    Zt.f = matrix(data = NA, nrow = Nt, ncol = N_scenarios)\n",
    "    for (i in 1 : N_scenarios){\n",
    "        Zt.f[, i] = Est.Nivel(Data = Zt.v[, i], K.Dif = K.Dif) \n",
    "    }\n",
    "    Zt.f = data.frame(Zt.f)\n",
    "\n",
    "    # Coeficientes\n",
    "    T = Nt\n",
    "    Coeff = matrix(data = NA, nrow = 2, ncol = N_scenarios)              # Nrow depende del DGP\n",
    "    for (i in 1 : N_scenarios){\n",
    "        Y = Zt.4[2 : T, i]\n",
    "        X = cbind(1, Zt.4[1 : (T - 1), i])\n",
    "        Coeff[, i] = solve(t(X) %*% X) %*% t(X) %*% Y\n",
    "    }\n",
    "    Coeff = data.frame(t(Coeff))\n",
    "    colnames(Coeff) = c('Mu', 'Zt1')\n",
    "\n",
    "    # Gráficas\n",
    "    Coeff_Mu = ggplot(Coeff, aes(x = Mu)) + \n",
    "    labs(title = 'Histograma de Mu', x = 'Mu', y = 'Densidad') +\n",
    "    geom_histogram(aes(y = ..density..), colour = 'darkblue', fill = 'lightblue', alpha = 0.5, bins = N_scenarios / 4) +\n",
    "    geom_density(alpha = 0.2, fill = \"#FF6666\")\n",
    "\n",
    "    Coeff_Zt1 = ggplot(Coeff, aes(x = Zt1)) + \n",
    "    labs(title = 'Histograma de Zt - 1', x = 'Zt - 1', y = 'Densidad') +\n",
    "    geom_histogram(aes(y = ..density..), colour = 'darkblue', fill = 'lightblue', alpha = 0.5, bins = N_scenarios / 4) +\n",
    "    geom_density(alpha = 0.2, fill = \"#FF6666\")\n",
    "\n",
    "    # Salidas\n",
    "    print(head(Coeff))\n",
    "    print(Coeff_Mu / Coeff_Zt1)\n",
    "    return(head(Zt.f))\n",
    "}\n",
    "\n",
    "DGP.4(Mu = 20, Sigma_a = 0.15, Zt_0 = 1, N_scenarios = 400, T = 240)"
   ]
  },
  {
   "cell_type": "markdown",
   "metadata": {},
   "source": [
    "# Tarea 2 - Impulso respuesta"
   ]
  },
  {
   "cell_type": "code",
   "execution_count": 8,
   "metadata": {
    "vscode": {
     "languageId": "r"
    }
   },
   "outputs": [
    {
     "data": {
      "image/png": "[encoded data removed]",
      "text/plain": [
       "plot without title"
      ]
     },
     "metadata": {
      "image/png": {
       "height": 420,
       "width": 420
      }
     },
     "output_type": "display_data"
    }
   ],
   "source": [
    "Escenarios<-100\n",
    "N<-200\n",
    "M<-2\n",
    "de<-1\n",
    "X0<-50\n",
    "obs.eliminadas<-5\n",
    "corte = 2\n",
    "bin<-0.005\n",
    "\n",
    "Dif<-matrix(data=NA,ncol=Escenarios,nrow=N)\n",
    "\n",
    "for (k in 1:Escenarios) {\n",
    "  \n",
    "    phi<-(k/Escenarios)\n",
    "    \n",
    "    set.seed(1)\n",
    "    a<-rnorm(N,mean=0,sd=de)\n",
    "    Z.og<-matrix(data=NA,ncol=1,nrow=N)\n",
    "    Z.og[1]<-X0\n",
    "    for (i in 2:N) {\n",
    "    Z.og[i]<-M+(phi*Z.og[i-1])+a[i]\n",
    "    }\n",
    "\n",
    "    #Serie de impulso\n",
    "\n",
    "    X.choque<-Z.og[corte-1]*2\n",
    "    corte = obs.eliminadas\n",
    "    Z<-matrix(data=NA,ncol=1,nrow=N)\n",
    "    Z[1]<-X0\n",
    "    for (i in 2:(corte-1)) {\n",
    "    Z[i]<-M+(phi*Z[i-1])+a[i]\n",
    "    }\n",
    "    corte<-obs.eliminadas\n",
    "    Z[obs.eliminadas]<-X.choque\n",
    "    for (i in (corte+1):N) {\n",
    "    Z[i]<-M+(phi*Z[i-1])+a[i]\n",
    "    }\n",
    "    #ZZ[1:length(Z),k]<-Z\n",
    "    #ZZ.og[1:length(Z),k]<-Z.og\n",
    "    Dif[1:length(Z),k]<-as.matrix((Z-Z.og))\n",
    "}\n",
    "\n",
    "DF<-as.data.frame(Dif)\n",
    "DF.1 <- data.frame(x = seq_along(DF[, 1]), DF)\n",
    "DF.2 <- melt(DF.1, id.vars = \"x\")\n",
    "ggplot(DF.2, aes(x = x, y = value, color = variable)) + \n",
    "  geom_line(linetype = 1,lwd = 0.1, show.legend = FALSE) +\n",
    "  xlab(\"Periodo\") + ylab(\"Valor\") + ggtitle(\"Impulso-respuesta\")"
   ]
  },
  {
   "cell_type": "markdown",
   "metadata": {},
   "source": [
    "# Tarea 3 - Simular Tao's"
   ]
  },
  {
   "cell_type": "markdown",
   "metadata": {},
   "source": [
    "## Tao"
   ]
  },
  {
   "cell_type": "code",
   "execution_count": 9,
   "metadata": {
    "vscode": {
     "languageId": "r"
    }
   },
   "outputs": [
    {
     "data": {
      "image/png": "[encoded data removed]",
      "text/plain": [
       "Plot with title \"Dist. Tau con 1000 datos y 10000 escenarios\""
      ]
     },
     "metadata": {
      "image/png": {
       "height": 420,
       "width": 420
      }
     },
     "output_type": "display_data"
    }
   ],
   "source": [
    "#Creando la función\n",
    "Tau <- function(T, S, Z_0 = 0, Sigma_a = 1){\n",
    "  Zt <- c(Z_0)                                                    #Creando matriz con el valor inicial\n",
    "  \n",
    "  #Creando una matriz vacía para almacenar los estadísticos\n",
    "  Tau = c()\n",
    "  \n",
    "  for (n in 1 : S){\n",
    "    #Generando los errores\n",
    "    set.seed(n)\n",
    "    At <- rnorm(n = T ,mean = 0, sd = Sigma_a)\n",
    "\n",
    "    #Corriendo la función generadora del PGD\n",
    "    for(t in 2 : T){\n",
    "      Zt[t] = Zt[t - 1] + At[t]\n",
    "    }\n",
    "\n",
    "    #Calculando la serie diferenciada\n",
    "    Diferencia = function(Data){                                 # Operador de diferencia\n",
    "        Serie.dif = matrix(data = NA, nrow = (T - 1), ncol = 1)\n",
    "        for(i in 1 : (T - 1)){\n",
    "            Serie.dif[i] <- Data[i + 1] - Data[i]\n",
    "        }\n",
    "        return(Serie.dif)\n",
    "    }\n",
    "    X.Diff = Diferencia(Data = Zt)\n",
    "\n",
    "    #Calculando la serie rezagada\n",
    "    X.Rez <- Zt[1 : (T - 1)]\n",
    "    \n",
    "    #Estimando la regresión (OLS)\n",
    "    Y = X.Diff\n",
    "    X = cbind(X.Rez)\n",
    "    Coeff = solve(t(X) %*% X) %*% (t(X) %*% Y)\n",
    "    Gamma = Coeff[1]                                               # Coeficiente Gamma estimado\n",
    "\n",
    "    # Estimación sigma^2 (Beta moño de OLS)\n",
    "    Ym = X %*% Coeff\n",
    "    Em = Y - Ym\n",
    "    Sigma2 = as.numeric((t(Em) %*% Em) / (T - 1))\n",
    "    Var.cov = (Sigma2 * solve(t(X) %*% X))\n",
    "    Gamma_std = sqrt(Var.cov[1, 1])\n",
    "    \n",
    "    #Llenando la matriz\n",
    "    Tau[n] <- Gamma / Gamma_std\n",
    "  }\n",
    "  # Quantiles\n",
    "  Q = matrix(data = c(quantile(Tau, probs = 0.2), quantile(Tau, probs = 0.1), quantile(Tau, probs = 0.05), quantile(Tau, probs = 0.01)), ncol = 4, nrow = 1)\n",
    "  colnames(Q) = c('20%', '10%', '5%', '1%')\n",
    "\n",
    "  # Gráficas\n",
    "  # print(G_Tau)\n",
    "  Den = density(Tau)\n",
    "  value1 = Q[, 1]\n",
    "  value2 = Q[, 2]\n",
    "  value3 = Q[, 3]\n",
    "  value4 = Q[, 4]\n",
    "  plot(Den, main = sprintf('Dist. Tau con %s datos y %s escenarios', T, S), xlab = \"Estadístico Tau\", ylab = \"Densidad\", col = \"black\", lty = 1, lwd = 4)\n",
    "  legend(x= \"topright\" , legend = c(\"Alfa = 0.2\", Q[, 1], \"Alfa = 0.1\", Q[, 2], \"Alfa = 0.05\", Q[, 3], \"Alfa = 0.01\", Q[, 4]))\n",
    "  polygon(c(Den$x[Den$x <= value1], value1),\n",
    "        c(Den$y[Den$x <= value1], 0),\n",
    "        col = rgb(0, 1, 0, alpha = 0.2),\n",
    "        border = 1)\n",
    "  polygon(c(Den$x[Den$x <= value2], value2),\n",
    "      c(Den$y[Den$x <= value2], 0),\n",
    "      col = rgb(0, 1, 0, alpha = 0.2),\n",
    "      border = 1)\n",
    "  polygon(c(Den$x[Den$x <= value3], value3),\n",
    "    c(Den$y[Den$x <= value3], 0),\n",
    "    col = rgb(0, 1, 0, alpha = 0.2),\n",
    "    border = 1)\n",
    "  polygon(c(Den$x[Den$x <= value4], value4),\n",
    "      c(Den$y[Den$x <= value4], 0),\n",
    "      col = rgb(0, 1, 0, alpha = 0.2),\n",
    "      border = 1)\n",
    "  abline(v = mean(Tau), col = \"green\", lwd = 3, lty = 2)\n",
    "}\n",
    "Tau(T = 1000, S = 10000)"
   ]
  },
  {
   "cell_type": "markdown",
   "metadata": {},
   "source": [
    "## Tao ~ Mu"
   ]
  },
  {
   "cell_type": "code",
   "execution_count": 11,
   "metadata": {
    "vscode": {
     "languageId": "r"
    }
   },
   "outputs": [
    {
     "data": {
      "image/png": "[encoded data removed]",
      "text/plain": [
       "Plot with title \"Dist. Tau ~ Mu con 1000 datos y 10000 escenarios\""
      ]
     },
     "metadata": {
      "image/png": {
       "height": 420,
       "width": 420
      }
     },
     "output_type": "display_data"
    }
   ],
   "source": [
    "#Creando la función\n",
    "Tau_M <- function(T, S, Z_0 = 0, Sigma_a = 1){\n",
    "  Zt <- c(Z_0)                                                    #Creando matriz con el valor inicial\n",
    "  \n",
    "  #Creando una matriz vacía para almacenar los estadísticos\n",
    "  Tau_M = c()\n",
    "  \n",
    "  for (n in 1 : S){\n",
    "    #Generando los errores\n",
    "    set.seed(n)\n",
    "    At <- rnorm(n = T ,mean = 0, sd = Sigma_a)\n",
    "\n",
    "    #Corriendo la función generadora del PGD\n",
    "    for(t in 2 : T){\n",
    "      Zt[t] = Zt[t - 1] + At[t]\n",
    "    }\n",
    "\n",
    "    #Calculando la serie diferenciada\n",
    "    Diferencia = function(Data){                                 # Operador de diferencia\n",
    "        Serie.dif = matrix(data = NA, nrow = (T - 1), ncol = 1)\n",
    "        for(i in 1 : (T - 1)){\n",
    "            Serie.dif[i] <- Data[i + 1] - Data[i]\n",
    "        }\n",
    "        return(Serie.dif)\n",
    "    }\n",
    "    X.Diff = Diferencia(Data = Zt)\n",
    "\n",
    "    #Calculando la serie rezagada\n",
    "    X.Rez <- Zt[1 : (T - 1)]\n",
    "    \n",
    "    #Estimando la regresión (OLS)\n",
    "    Y = X.Diff\n",
    "    X = cbind(1, X.Rez)\n",
    "    Coeff = solve(t(X) %*% X) %*% (t(X) %*% Y)\n",
    "    Gamma = Coeff[2]                                               # Coeficiente Gamma estimado\n",
    "\n",
    "    # Estimación sigma^2 (Beta moño de OLS)\n",
    "    Ym = X %*% Coeff\n",
    "    Em = Y - Ym\n",
    "    Sigma2 = as.numeric((t(Em) %*% Em) / (T - 2))\n",
    "    Var.cov = (Sigma2 * solve(t(X) %*% X))\n",
    "    Gamma_std = sqrt(Var.cov[2, 2])\n",
    "    \n",
    "    #Llenando la matriz\n",
    "    Tau_M[n] <- Gamma / Gamma_std\n",
    "  }\n",
    "  # Quantiles\n",
    "  Q = matrix(data = c(quantile(Tau_M, probs = 0.2), quantile(Tau_M, probs = 0.1), quantile(Tau_M, probs = 0.05), quantile(Tau_M, probs = 0.01)), ncol = 4, nrow = 1)\n",
    "  colnames(Q) = c('20%', '10%', '5%', '1%')\n",
    "\n",
    "  # Gráficas\n",
    "  # print(G_Tau_M)\n",
    "  Den = density(Tau_M)\n",
    "  value1 = Q[, 1]\n",
    "  value2 = Q[, 2]\n",
    "  value3 = Q[, 3]\n",
    "  value4 = Q[, 4]\n",
    "  plot(Den, main = sprintf('Dist. Tau ~ Mu con %s datos y %s escenarios', T, S), xlab=\"Estadístico Tau - Mu\", ylab=\"Densidad\", col=\"black\", lty=1, lwd=4)\n",
    "  legend(x= \"topright\" , legend = c(\"Alfa = 0.2\", Q[, 1], \"Alfa = 0.1\", Q[, 2], \"Alfa = 0.05\", Q[, 3], \"Alfa = 0.01\", Q[, 4]))\n",
    "  polygon(c(Den$x[Den$x <= value1], value1),\n",
    "        c(Den$y[Den$x <= value1], 0),\n",
    "        col = rgb(0, 0, 1, alpha = 0.2),\n",
    "        border = 1)\n",
    "  polygon(c(Den$x[Den$x <= value2], value2),\n",
    "      c(Den$y[Den$x <= value2], 0),\n",
    "      col = rgb(0, 0, 1, alpha = 0.2),\n",
    "      border = 1)\n",
    "  polygon(c(Den$x[Den$x <= value3], value3),\n",
    "    c(Den$y[Den$x <= value3], 0),\n",
    "    col = rgb(0, 0, 1, alpha = 0.2),\n",
    "    border = 1)\n",
    "  polygon(c(Den$x[Den$x <= value4], value4),\n",
    "      c(Den$y[Den$x <= value4], 0),\n",
    "      col = rgb(0, 0, 1, alpha = 0.2),\n",
    "      border = 1)\n",
    "  abline(v = mean(Tau_M), col = \"blue\", lwd = 3, lty = 2)\n",
    "}\n",
    "Tau_M(T = 1000, S = 10000)"
   ]
  },
  {
   "cell_type": "markdown",
   "metadata": {},
   "source": [
    "## Tao ~ Tao"
   ]
  },
  {
   "cell_type": "code",
   "execution_count": 13,
   "metadata": {
    "vscode": {
     "languageId": "r"
    }
   },
   "outputs": [
    {
     "data": {
      "image/png": "[encoded data removed]",
      "text/plain": [
       "Plot with title \"Dist. Tau ~ T con 1000 datos y 10000 escenarios\""
      ]
     },
     "metadata": {
      "image/png": {
       "height": 420,
       "width": 420
      }
     },
     "output_type": "display_data"
    }
   ],
   "source": [
    "#Creando la función\n",
    "Tau_T <- function(T, S, Z_0 = 0, Sigma_a = 1){\n",
    "  Zt <- c(Z_0)                                                    #Creando matriz con el valor inicial\n",
    "  \n",
    "  #Creando una matriz vacía para almacenar los estadísticos\n",
    "  Tau_T = c()\n",
    "  \n",
    "  for (n in 1 : S){\n",
    "    #Generando los errores\n",
    "    set.seed(n)\n",
    "    At <- rnorm(n = T ,mean = 0, sd = Sigma_a)\n",
    "\n",
    "    #Corriendo la función generadora del PGD\n",
    "    for(t in 2 : T){\n",
    "      Zt[t] = Zt[t - 1] + At[t]\n",
    "    }\n",
    "\n",
    "    #Calculando la serie diferenciada\n",
    "    Diferencia = function(Data){                                 # Operador de diferencia\n",
    "        Serie.dif = matrix(data = NA, nrow = (T - 1), ncol = 1)\n",
    "        for(i in 1 : (T - 1)){\n",
    "            Serie.dif[i] <- Data[i + 1] - Data[i]\n",
    "        }\n",
    "        return(Serie.dif)\n",
    "    }\n",
    "    X.Diff = Diferencia(Data = Zt)\n",
    "\n",
    "    #Calculando la serie rezagada\n",
    "    X.Rez <- Zt[1 : (T - 1)]\n",
    "    \n",
    "    #Estimando la regresión (OLS)\n",
    "    Y = X.Diff\n",
    "    X = cbind(1, c(1 : (T - 1)), X.Rez)\n",
    "    Coeff = solve(t(X) %*% X) %*% (t(X) %*% Y)\n",
    "    Gamma = Coeff[3]                                               # Coeficiente Gamma estimado\n",
    "\n",
    "    # Estimación sigma^2 (Beta moño de OLS)\n",
    "    Ym = X %*% Coeff\n",
    "    Em = Y - Ym\n",
    "    Sigma2 = as.numeric((t(Em) %*% Em) / (T - 3))\n",
    "    Var.cov = (Sigma2 * solve(t(X) %*% X))\n",
    "    Gamma_std = sqrt(Var.cov[3, 3])\n",
    "    \n",
    "    #Llenando la matriz\n",
    "    Tau_T[n] <- Gamma / Gamma_std\n",
    "  }\n",
    "\n",
    "  # Gráficas\n",
    "  # Tau_T1 = data.frame(Tau_T)\n",
    "  # G_Tau_T = ggplot(Tau_T1, aes(x = Tau_T)) + \n",
    "  #     labs(title = sprintf('Dist. Tau ~ T con %s datos y %s escenarios', T, S), x = 'Tau ~ T', y = 'Densidad') +\n",
    "  #     geom_density(color = 'black', fill = 'red', alpha = 0.09) + \n",
    "  #     geom_vline(aes(xintercept= mean(Tau_T)), color = \"blue\", linetype = \"dashed\", size = 0.7)\n",
    "\n",
    "  # Quantiles\n",
    "  Q = matrix(data = c(quantile(Tau_T, probs = 0.2), quantile(Tau_T, probs = 0.1), quantile(Tau_T, probs = 0.05), quantile(Tau_T, probs = 0.01)), ncol = 4, nrow = 1)\n",
    "  colnames(Q) = c('20%', '10%', '5%', '1%')\n",
    "\n",
    "  # Gráficas\n",
    "  # print(G_Tau_T)\n",
    "  Den = density(Tau_T)\n",
    "  value1 = Q[, 1]\n",
    "  value2 = Q[, 2]\n",
    "  value3 = Q[, 3]\n",
    "  value4 = Q[, 4]\n",
    "  plot(Den, main = sprintf('Dist. Tau ~ T con %s datos y %s escenarios', T, S), xlab = \"Estadístico Tau - Tau\", ylab = \"Densidad\", col = \"black\", lty = 1, lwd = 4)\n",
    "  legend(x= \"topright\" , legend = c(\"Alfa = 0.2\", Q[, 1], \"Alfa = 0.1\", Q[, 2], \"Alfa = 0.05\", Q[, 3], \"Alfa = 0.01\", Q[, 4]))\n",
    "  polygon(c(Den$x[Den$x <= value1], value1),\n",
    "        c(Den$y[Den$x <= value1], 0),\n",
    "        col = rgb(1, 0, 0, alpha = 0.2),\n",
    "        border = 1)\n",
    "  polygon(c(Den$x[Den$x <= value2], value2),\n",
    "      c(Den$y[Den$x <= value2], 0),\n",
    "      col = rgb(1, 0, 0, alpha = 0.2),\n",
    "      border = 1)\n",
    "  polygon(c(Den$x[Den$x <= value3], value3),\n",
    "    c(Den$y[Den$x <= value3], 0),\n",
    "    col = rgb(1, 0, 0, alpha = 0.2),\n",
    "    border = 1)\n",
    "  polygon(c(Den$x[Den$x <= value4], value4),\n",
    "      c(Den$y[Den$x <= value4], 0),\n",
    "      col = rgb(1, 0, 0, alpha = 0.2),\n",
    "      border = 1)\n",
    "  abline(v = mean(Tau_T), col = \"red\", lwd = 3, lty = 2)\n",
    "}\n",
    "Tau_T(T = 1000, S = 10000)"
   ]
  }
 ],
 "metadata": {
  "kernelspec": {
   "display_name": "R",
   "language": "R",
   "name": "ir"
  },
  "language_info": {
   "codemirror_mode": "r",
   "file_extension": ".r",
   "mimetype": "text/x-r-source",
   "name": "R",
   "pygments_lexer": "r",
   "version": "4.2.1"
  },
  "orig_nbformat": 4,
  "vscode": {
   "interpreter": {
    "hash": "42322db88e3c2f02255451d64a951c0a78537fc6172e7daad3a10b518b5be8f3"
   }
  }
 },
 "nbformat": 4,
 "nbformat_minor": 2
}
